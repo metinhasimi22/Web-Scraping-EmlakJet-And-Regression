{
 "cells": [
  {
   "cell_type": "markdown",
   "id": "9f6d41a0",
   "metadata": {},
   "source": [
    "# EmlakJet  Web Scraping and Saving data\n",
    "\n",
    "Merhaba Arkadaşlar bugün sizinle birlikte Weri çekme yapacağız ve Çektiğmizi veriler ile Price Değerini Regression Modelleme yaparak yüksek bir oran almaya çalışacağız \n",
    "\n",
    "bziden başta zingat.com dan veri çekilmesi istendi \n",
    "ama zingatta 403 request hatası aldığım için bende mevcut emlak sitelerinden birtanesini hedef aldım 'EmlakJet' \n",
    "\n",
    "veri çekme işlemi başarılı oldum ve çektiğim verileri datafream a dönüştürdüm , bu dönüşüm ile de modelleme yaparak yüksek bir başarı \n",
    "elde etmeye çalışacağız , saygılarımla . "
   ]
  },
  {
   "cell_type": "markdown",
   "id": "6d9c6f4b",
   "metadata": {},
   "source": [
    "<img src='https://m.media-amazon.com/images/I/51qHhCpE58L._AC_UF1000,1000_QL80_.jpg'>"
   ]
  },
  {
   "cell_type": "markdown",
   "id": "22f41432",
   "metadata": {},
   "source": [
    "# 1...50 kadar olan sayfanın ana linkleri "
   ]
  },
  {
   "cell_type": "code",
   "execution_count": 53,
   "id": "18d38361",
   "metadata": {},
   "outputs": [
    {
     "name": "stdout",
     "output_type": "stream",
     "text": [
      "['https://www.emlakjet.com/satilik-konut/istanbul/1/', 'https://www.emlakjet.com/satilik-konut/istanbul/2/', 'https://www.emlakjet.com/satilik-konut/istanbul/3/', 'https://www.emlakjet.com/satilik-konut/istanbul/4/', 'https://www.emlakjet.com/satilik-konut/istanbul/5/', 'https://www.emlakjet.com/satilik-konut/istanbul/6/', 'https://www.emlakjet.com/satilik-konut/istanbul/7/', 'https://www.emlakjet.com/satilik-konut/istanbul/8/', 'https://www.emlakjet.com/satilik-konut/istanbul/9/', 'https://www.emlakjet.com/satilik-konut/istanbul/10/', 'https://www.emlakjet.com/satilik-konut/istanbul/11/', 'https://www.emlakjet.com/satilik-konut/istanbul/12/', 'https://www.emlakjet.com/satilik-konut/istanbul/13/', 'https://www.emlakjet.com/satilik-konut/istanbul/14/', 'https://www.emlakjet.com/satilik-konut/istanbul/15/', 'https://www.emlakjet.com/satilik-konut/istanbul/16/', 'https://www.emlakjet.com/satilik-konut/istanbul/17/', 'https://www.emlakjet.com/satilik-konut/istanbul/18/', 'https://www.emlakjet.com/satilik-konut/istanbul/19/', 'https://www.emlakjet.com/satilik-konut/istanbul/20/', 'https://www.emlakjet.com/satilik-konut/istanbul/21/', 'https://www.emlakjet.com/satilik-konut/istanbul/22/', 'https://www.emlakjet.com/satilik-konut/istanbul/23/', 'https://www.emlakjet.com/satilik-konut/istanbul/24/', 'https://www.emlakjet.com/satilik-konut/istanbul/25/', 'https://www.emlakjet.com/satilik-konut/istanbul/26/', 'https://www.emlakjet.com/satilik-konut/istanbul/27/', 'https://www.emlakjet.com/satilik-konut/istanbul/28/', 'https://www.emlakjet.com/satilik-konut/istanbul/29/', 'https://www.emlakjet.com/satilik-konut/istanbul/30/', 'https://www.emlakjet.com/satilik-konut/istanbul/31/', 'https://www.emlakjet.com/satilik-konut/istanbul/32/', 'https://www.emlakjet.com/satilik-konut/istanbul/33/', 'https://www.emlakjet.com/satilik-konut/istanbul/34/', 'https://www.emlakjet.com/satilik-konut/istanbul/35/', 'https://www.emlakjet.com/satilik-konut/istanbul/36/', 'https://www.emlakjet.com/satilik-konut/istanbul/37/', 'https://www.emlakjet.com/satilik-konut/istanbul/38/', 'https://www.emlakjet.com/satilik-konut/istanbul/39/', 'https://www.emlakjet.com/satilik-konut/istanbul/40/', 'https://www.emlakjet.com/satilik-konut/istanbul/41/', 'https://www.emlakjet.com/satilik-konut/istanbul/42/', 'https://www.emlakjet.com/satilik-konut/istanbul/43/', 'https://www.emlakjet.com/satilik-konut/istanbul/44/', 'https://www.emlakjet.com/satilik-konut/istanbul/45/', 'https://www.emlakjet.com/satilik-konut/istanbul/46/', 'https://www.emlakjet.com/satilik-konut/istanbul/47/', 'https://www.emlakjet.com/satilik-konut/istanbul/48/', 'https://www.emlakjet.com/satilik-konut/istanbul/49/', 'https://www.emlakjet.com/satilik-konut/istanbul/50/']\n"
     ]
    }
   ],
   "source": [
    "def get_listing_urls(start_page=1, end_page=50):\n",
    "    \"\"\"Belirtilen sayfa aralığındaki ilan sayfalarının URL'lerini döner.\"\"\"\n",
    "    urls = []\n",
    "\n",
    "    for page_num in range(start_page, end_page + 1):\n",
    "        url = f'https://www.emlakjet.com/satilik-konut/istanbul/{page_num}/'\n",
    "        urls.append(url)\n",
    "\n",
    "    return urls\n",
    "\n",
    "# 1-50. sayfaların URL'lerini alalım\n",
    "main_url = get_listing_urls()\n",
    "print(main_url)\n"
   ]
  },
  {
   "cell_type": "code",
   "execution_count": 54,
   "id": "2d0bdb62",
   "metadata": {},
   "outputs": [],
   "source": [
    "# Hedef manJWF"
   ]
  },
  {
   "cell_type": "code",
   "execution_count": 55,
   "id": "a1b59dd0",
   "metadata": {},
   "outputs": [
    {
     "data": {
      "text/html": [
       "<div>\n",
       "<style scoped>\n",
       "    .dataframe tbody tr th:only-of-type {\n",
       "        vertical-align: middle;\n",
       "    }\n",
       "\n",
       "    .dataframe tbody tr th {\n",
       "        vertical-align: top;\n",
       "    }\n",
       "\n",
       "    .dataframe thead th {\n",
       "        text-align: right;\n",
       "    }\n",
       "</style>\n",
       "<table border=\"1\" class=\"dataframe\">\n",
       "  <thead>\n",
       "    <tr style=\"text-align: right;\">\n",
       "      <th></th>\n",
       "      <th>Title</th>\n",
       "      <th>Category</th>\n",
       "      <th>Room Count</th>\n",
       "      <th>Floor</th>\n",
       "      <th>Area</th>\n",
       "      <th>Updated At</th>\n",
       "      <th>Price</th>\n",
       "      <th>Location</th>\n",
       "    </tr>\n",
       "  </thead>\n",
       "  <tbody>\n",
       "    <tr>\n",
       "      <th>0</th>\n",
       "      <td>BU DÖNEMI IYI DEĞERLENDIRMEK GEREK DAIRE KALMADI</td>\n",
       "      <td>homeDaire</td>\n",
       "      <td>weekend2+1</td>\n",
       "      <td>layersYüksek giriş</td>\n",
       "      <td>texture95 m2</td>\n",
       "      <td>event21 Ağustos</td>\n",
       "      <td>1.390.000 TL</td>\n",
       "      <td>İstanbul - Esenyurt - Selahaddin Eyyubi Mh.</td>\n",
       "    </tr>\n",
       "    <tr>\n",
       "      <th>1</th>\n",
       "      <td>YILDIRIM MAHALLESİNDE YERDEN ISITMALI ULTRA LÜ...</td>\n",
       "      <td>homeDaire</td>\n",
       "      <td>weekend2+1</td>\n",
       "      <td>layersBahçe katı</td>\n",
       "      <td>texture90 m2</td>\n",
       "      <td>event21 Ağustos</td>\n",
       "      <td>3.650.000 TL</td>\n",
       "      <td>İstanbul - Bayrampaşa - Yıldırım Mh.</td>\n",
       "    </tr>\n",
       "    <tr>\n",
       "      <th>2</th>\n",
       "      <td>YILDIRIM MAHALLESİNDE 2+1 90m2 YERDEN ISITMALI...</td>\n",
       "      <td>homeDaire</td>\n",
       "      <td>weekend2+1</td>\n",
       "      <td>layersYüksek giriş</td>\n",
       "      <td>texture90 m2</td>\n",
       "      <td>event21 Ağustos</td>\n",
       "      <td>5.650.000 TL</td>\n",
       "      <td>İstanbul - Bayrampaşa - Yıldırım Mh.</td>\n",
       "    </tr>\n",
       "    <tr>\n",
       "      <th>3</th>\n",
       "      <td>Satılık Yatırımlık Dublex</td>\n",
       "      <td>homeDaire</td>\n",
       "      <td>weekend2+1</td>\n",
       "      <td>layers4. Kat</td>\n",
       "      <td>texture120 m2</td>\n",
       "      <td>event20 Ağustos</td>\n",
       "      <td>3.000.000 TL</td>\n",
       "      <td>İstanbul - Çatalca - Ferhatpaşa Mh.</td>\n",
       "    </tr>\n",
       "    <tr>\n",
       "      <th>4</th>\n",
       "      <td>SANCAKTEPE EYÜPSULTAN MAH. ÇOK KULLANIŞLI 115 ...</td>\n",
       "      <td>homeDaire</td>\n",
       "      <td>weekend3+1</td>\n",
       "      <td>layers1. Kat</td>\n",
       "      <td>texture115 m2</td>\n",
       "      <td>event20 Ağustos</td>\n",
       "      <td>3.840.000 TL</td>\n",
       "      <td>İstanbul - Sancaktepe - Eyüp Sultan Mh.</td>\n",
       "    </tr>\n",
       "  </tbody>\n",
       "</table>\n",
       "</div>"
      ],
      "text/plain": [
       "                                               Title   Category  Room Count  \\\n",
       "0   BU DÖNEMI IYI DEĞERLENDIRMEK GEREK DAIRE KALMADI  homeDaire  weekend2+1   \n",
       "1  YILDIRIM MAHALLESİNDE YERDEN ISITMALI ULTRA LÜ...  homeDaire  weekend2+1   \n",
       "2  YILDIRIM MAHALLESİNDE 2+1 90m2 YERDEN ISITMALI...  homeDaire  weekend2+1   \n",
       "3                          Satılık Yatırımlık Dublex  homeDaire  weekend2+1   \n",
       "4  SANCAKTEPE EYÜPSULTAN MAH. ÇOK KULLANIŞLI 115 ...  homeDaire  weekend3+1   \n",
       "\n",
       "                Floor           Area       Updated At         Price  \\\n",
       "0  layersYüksek giriş   texture95 m2  event21 Ağustos  1.390.000 TL   \n",
       "1    layersBahçe katı   texture90 m2  event21 Ağustos  3.650.000 TL   \n",
       "2  layersYüksek giriş   texture90 m2  event21 Ağustos  5.650.000 TL   \n",
       "3        layers4. Kat  texture120 m2  event20 Ağustos  3.000.000 TL   \n",
       "4        layers1. Kat  texture115 m2  event20 Ağustos  3.840.000 TL   \n",
       "\n",
       "                                      Location  \n",
       "0  İstanbul - Esenyurt - Selahaddin Eyyubi Mh.  \n",
       "1         İstanbul - Bayrampaşa - Yıldırım Mh.  \n",
       "2         İstanbul - Bayrampaşa - Yıldırım Mh.  \n",
       "3          İstanbul - Çatalca - Ferhatpaşa Mh.  \n",
       "4      İstanbul - Sancaktepe - Eyüp Sultan Mh.  "
      ]
     },
     "execution_count": 55,
     "metadata": {},
     "output_type": "execute_result"
    }
   ],
   "source": [
    "import requests\n",
    "from bs4 import BeautifulSoup\n",
    "import pandas as pd\n",
    "import time\n",
    "\n",
    "# URL'leri içeren liste\n",
    "links = [f'https://www.emlakjet.com/satilik-konut/istanbul/{i}/' for i in range(1, 51)]\n",
    "\n",
    "# Boş liste oluşturuluyor\n",
    "data = []\n",
    "\n",
    "# URL'lere istek gönder ve veri çek\n",
    "for url in links:\n",
    "    try:\n",
    "        page = requests.get(url)\n",
    "        soup = BeautifulSoup(page.content, 'html.parser')\n",
    "        \n",
    "        # Bilgiyi bul\n",
    "        listings = soup.find_all('div', attrs={'class': 'manJWF'})\n",
    "        \n",
    "        # Her bir ilan için bilgileri al\n",
    "        for listing in listings:\n",
    "            # Dinamik veri-test-selector değerlerini çekmek için\n",
    "            title = listing.find('div', attrs={'data-ej-label': 'link_item'}).find('h3').text.strip() if listing.find('div', attrs={'data-ej-label': 'link_item'}) else 'N/A'\n",
    "            category = listing.find('span', attrs={'data-test-selector': lambda x: x and x.startswith('listing-item-property-category-')}).text.strip() if listing.find('span', attrs={'data-test-selector': lambda x: x and x.startswith('listing-item-property-category-')}) else 'N/A'\n",
    "            room_count = listing.find('span', attrs={'data-test-selector': lambda x: x and x.startswith('listing-item-property-room-count-')}).text.strip() if listing.find('span', attrs={'data-test-selector': lambda x: x and x.startswith('listing-item-property-room-count-')}) else 'N/A'\n",
    "            floor = listing.find('span', attrs={'data-test-selector': lambda x: x and x.startswith('listing-item-property-floor-number-')}).text.strip() if listing.find('span', attrs={'data-test-selector': lambda x: x and x.startswith('listing-item-property-floor-number-')}) else 'N/A'\n",
    "            area = listing.find('span', attrs={'data-test-selector': lambda x: x and x.startswith('listing-item-property-gross-square-')}).text.strip() if listing.find('span', attrs={'data-test-selector': lambda x: x and x.startswith('listing-item-property-gross-square-')}) else 'N/A'\n",
    "            updated_at = listing.find('span', attrs={'data-test-selector': lambda x: x and x.startswith('listing-item-property-updated-at-')}).text.strip() if listing.find('span', attrs={'data-test-selector': lambda x: x and x.startswith('listing-item-property-updated-at-')}) else 'N/A'\n",
    "            price = listing.find('p', attrs={'data-test-selector': lambda x: x and x.startswith('listing-item-price-')}).text.strip() if listing.find('p', attrs={'data-test-selector': lambda x: x and x.startswith('listing-item-price-')}) else 'N/A'\n",
    "            location = listing.find('span', attrs={'data-test-selector': lambda x: x and x.startswith('listing-item-location-')}).text.strip() if listing.find('span', attrs={'data-test-selector': lambda x: x and x.startswith('listing-item-location-')}) else 'N/A'\n",
    "            \n",
    "            # Verileri listeye ekle\n",
    "            data.append({\n",
    "                'Title': title,\n",
    "                'Category': category,\n",
    "                'Room Count': room_count,\n",
    "                'Floor': floor,\n",
    "                'Area': area,\n",
    "                'Updated At': updated_at,\n",
    "                'Price': price,\n",
    "                'Location': location\n",
    "            })\n",
    "            \n",
    "        # Sayfa başına 1 saniyelik bekleme süresi ekleyin\n",
    "        time.sleep(1)\n",
    "    \n",
    "    except Exception as e:\n",
    "        print(f\"Error processing {url}: {e}\")\n",
    "\n",
    "# DataFrame oluştur\n",
    "df = pd.DataFrame(data)\n",
    "\n",
    "# DataFrame'i görüntüle\n",
    "df.head()"
   ]
  },
  {
   "cell_type": "code",
   "execution_count": 56,
   "id": "1475e43c",
   "metadata": {},
   "outputs": [],
   "source": [
    "df.to_csv('emlakjet_with_Price.csv')"
   ]
  },
  {
   "cell_type": "code",
   "execution_count": 57,
   "id": "1570c5d4",
   "metadata": {},
   "outputs": [
    {
     "data": {
      "text/plain": [
       "(1500, 8)"
      ]
     },
     "execution_count": 57,
     "metadata": {},
     "output_type": "execute_result"
    }
   ],
   "source": [
    "df.shape"
   ]
  },
  {
   "cell_type": "code",
   "execution_count": 58,
   "id": "b2e46b21",
   "metadata": {},
   "outputs": [
    {
     "data": {
      "text/plain": [
       "Title         0\n",
       "Category      0\n",
       "Room Count    0\n",
       "Floor         0\n",
       "Area          0\n",
       "Updated At    0\n",
       "Price         0\n",
       "Location      0\n",
       "dtype: int64"
      ]
     },
     "execution_count": 58,
     "metadata": {},
     "output_type": "execute_result"
    }
   ],
   "source": [
    "df.isnull().sum()"
   ]
  },
  {
   "cell_type": "code",
   "execution_count": 59,
   "id": "c907c63d",
   "metadata": {},
   "outputs": [
    {
     "name": "stdout",
     "output_type": "stream",
     "text": [
      "<class 'pandas.core.frame.DataFrame'>\n",
      "RangeIndex: 1500 entries, 0 to 1499\n",
      "Data columns (total 8 columns):\n",
      " #   Column      Non-Null Count  Dtype \n",
      "---  ------      --------------  ----- \n",
      " 0   Title       1500 non-null   object\n",
      " 1   Category    1500 non-null   object\n",
      " 2   Room Count  1500 non-null   object\n",
      " 3   Floor       1500 non-null   object\n",
      " 4   Area        1500 non-null   object\n",
      " 5   Updated At  1500 non-null   object\n",
      " 6   Price       1500 non-null   object\n",
      " 7   Location    1500 non-null   object\n",
      "dtypes: object(8)\n",
      "memory usage: 93.9+ KB\n"
     ]
    }
   ],
   "source": [
    "df.info()"
   ]
  },
  {
   "cell_type": "markdown",
   "id": "e6f7cac4",
   "metadata": {},
   "source": [
    "<img src='https://encrypted-tbn0.gstatic.com/images?q=tbn:ANd9GcTIEzcVBmj0CtWuH3nsy4dnC_4SDoYzK1FJuU9WMyL2ReIWuSP7aDQB0AS2YhsYZhL4ETw&usqp=CAU'>"
   ]
  },
  {
   "cell_type": "markdown",
   "id": "4da04434",
   "metadata": {},
   "source": [
    "# EDA \n",
    "## Preprocessing "
   ]
  },
  {
   "cell_type": "code",
   "execution_count": 60,
   "id": "be0549be",
   "metadata": {},
   "outputs": [],
   "source": [
    "df2=df.copy()\n",
    "df=df2.copy()"
   ]
  },
  {
   "cell_type": "code",
   "execution_count": 61,
   "id": "173a9304",
   "metadata": {},
   "outputs": [],
   "source": [
    "# ' TL' kısmını kaldır\n",
    "df['Price'] = df['Price'].replace({' TL': ''}, regex=True)\n",
    "\n",
    "# ',' karakterlerini kaldır ve '.' karakterini binlik ayracı olarak kaldır\n",
    "df['Price'] = df['Price'].replace({',': ''}, regex=True)\n",
    "\n",
    "# Binlik ayracı olarak kullanılan '.' karakterini kaldır\n",
    "df['Price'] = df['Price'].replace({'\\.': ''}, regex=True)\n",
    "\n",
    "# String değerleri float'a dönüştür\n",
    "df['Price'] = df['Price'].astype(int)"
   ]
  },
  {
   "cell_type": "code",
   "execution_count": 62,
   "id": "cdff7b45",
   "metadata": {},
   "outputs": [
    {
     "data": {
      "text/plain": [
       "array(['weekend2+1', 'weekend3+1', 'weekend1+1', 'weekend1 Oda',\n",
       "       'weekend2+2', 'weekend5+1', 'weekend4+1', 'weekendStüdyo',\n",
       "       'weekend4+2', 'weekend3+2', 'weekend5+2', 'weekend4.5+1',\n",
       "       'weekend7+1', 'weekend6+2', 'weekend8+2', 'weekend6+1',\n",
       "       'weekend2.5+1', 'weekend8+1', 'weekend6+3', 'weekend5+3',\n",
       "       'weekend7+2', 'weekend3+0', 'weekend9+ Oda', 'weekend4+0',\n",
       "       'weekend3.5+1', 'weekend1.5+1'], dtype=object)"
      ]
     },
     "execution_count": 62,
     "metadata": {},
     "output_type": "execute_result"
    }
   ],
   "source": [
    "df['Room Count'].unique()"
   ]
  },
  {
   "cell_type": "code",
   "execution_count": 63,
   "id": "99ac3339",
   "metadata": {},
   "outputs": [],
   "source": [
    "df['Room Count'] = df['Room Count'].str.replace('weekend', '', regex=False)"
   ]
  },
  {
   "cell_type": "code",
   "execution_count": 64,
   "id": "c81a8c7e",
   "metadata": {},
   "outputs": [
    {
     "data": {
      "text/plain": [
       "array(['2+1', '3+1', '1+1', '1 Oda', '2+2', '5+1', '4+1', 'Stüdyo', '4+2',\n",
       "       '3+2', '5+2', '4.5+1', '7+1', '6+2', '8+2', '6+1', '2.5+1', '8+1',\n",
       "       '6+3', '5+3', '7+2', '3+0', '9+ Oda', '4+0', '3.5+1', '1.5+1'],\n",
       "      dtype=object)"
      ]
     },
     "execution_count": 64,
     "metadata": {},
     "output_type": "execute_result"
    }
   ],
   "source": [
    "df['Room Count'].unique()"
   ]
  },
  {
   "cell_type": "code",
   "execution_count": 65,
   "id": "9a57adce",
   "metadata": {},
   "outputs": [],
   "source": [
    "df['Room Count'] = df['Room Count'].str.replace('Oda', '', regex=False)"
   ]
  },
  {
   "cell_type": "code",
   "execution_count": 66,
   "id": "fbc05fb9",
   "metadata": {},
   "outputs": [
    {
     "data": {
      "text/plain": [
       "array(['2+1', '3+1', '1+1', '1 ', '2+2', '5+1', '4+1', 'Stüdyo', '4+2',\n",
       "       '3+2', '5+2', '4.5+1', '7+1', '6+2', '8+2', '6+1', '2.5+1', '8+1',\n",
       "       '6+3', '5+3', '7+2', '3+0', '9+ ', '4+0', '3.5+1', '1.5+1'],\n",
       "      dtype=object)"
      ]
     },
     "execution_count": 66,
     "metadata": {},
     "output_type": "execute_result"
    }
   ],
   "source": [
    "df['Room Count'].unique()"
   ]
  },
  {
   "cell_type": "code",
   "execution_count": 67,
   "id": "17c01d19",
   "metadata": {},
   "outputs": [],
   "source": [
    "df['Room Count'] = df['Room Count'].str.replace('Stüdyo', '2', regex=False) # bir çeşit otel tipi oda demek genelde 1+0 ve ya 1+1 olaraka yapılır "
   ]
  },
  {
   "cell_type": "code",
   "execution_count": 68,
   "id": "15b89cc1",
   "metadata": {},
   "outputs": [
    {
     "data": {
      "text/plain": [
       "array(['2+1', '3+1', '1+1', '1 ', '2+2', '5+1', '4+1', '2', '4+2', '3+2',\n",
       "       '5+2', '4.5+1', '7+1', '6+2', '8+2', '6+1', '2.5+1', '8+1', '6+3',\n",
       "       '5+3', '7+2', '3+0', '9+ ', '4+0', '3.5+1', '1.5+1'], dtype=object)"
      ]
     },
     "execution_count": 68,
     "metadata": {},
     "output_type": "execute_result"
    }
   ],
   "source": [
    "df['Room Count'].unique()"
   ]
  },
  {
   "cell_type": "code",
   "execution_count": 69,
   "id": "e499b8c7",
   "metadata": {},
   "outputs": [],
   "source": [
    "# Fonksiyon tanımlama: '2+1' gibi değerleri toplama\n",
    "def sum_room_count(value):\n",
    "    # Boşlukları temizle\n",
    "    value = value.strip()\n",
    "    # '+' karakteri varsa ayır\n",
    "    if '+' in value:\n",
    "        parts = value.split('+')\n",
    "        # Her iki parçayı sayıya çevirip toplama\n",
    "        try:\n",
    "            return str(float(parts[0]) + float(parts[1]))\n",
    "        except ValueError:\n",
    "            return value  # Eğer sayıya dönüştürülemiyorsa orijinal değeri döndür\n",
    "    else:\n",
    "        return value  # Eğer '+' yoksa orijinal değeri döndür\n",
    "\n",
    "# 'Room Count' sütununda fonksiyonu uygulama\n",
    "df['Room Count'] = df['Room Count'].apply(sum_room_count)\n"
   ]
  },
  {
   "cell_type": "code",
   "execution_count": 70,
   "id": "1b471fb0",
   "metadata": {},
   "outputs": [
    {
     "data": {
      "text/plain": [
       "array(['3.0', '4.0', '2.0', '1', '6.0', '5.0', '2', '7.0', '5.5', '8.0',\n",
       "       '10.0', '3.5', '9.0', '9+', '4.5', '2.5'], dtype=object)"
      ]
     },
     "execution_count": 70,
     "metadata": {},
     "output_type": "execute_result"
    }
   ],
   "source": [
    "df['Room Count'].unique()"
   ]
  },
  {
   "cell_type": "code",
   "execution_count": 71,
   "id": "8dc7ccc5",
   "metadata": {},
   "outputs": [],
   "source": [
    "df['Room Count'] = df['Room Count'].str.replace('+', '', regex=False)\n",
    "df['Room Count'] = df['Room Count'].str.replace('0', '', regex=False)\n",
    "df['Room Count'] = df['Room Count'].str.replace('.', ',', regex=False)"
   ]
  },
  {
   "cell_type": "code",
   "execution_count": 72,
   "id": "35bd10b6",
   "metadata": {},
   "outputs": [
    {
     "data": {
      "text/plain": [
       "array(['3,', '4,', '2,', '1', '6,', '5,', '2', '7,', '5,5', '8,', '1,',\n",
       "       '3,5', '9,', '9', '4,5', '2,5'], dtype=object)"
      ]
     },
     "execution_count": 72,
     "metadata": {},
     "output_type": "execute_result"
    }
   ],
   "source": [
    "df['Room Count'].unique()"
   ]
  },
  {
   "cell_type": "code",
   "execution_count": 73,
   "id": "f3ddb3ba",
   "metadata": {},
   "outputs": [],
   "source": [
    "# Virgülleri noktaya çevir ve sonundaki virgülleri temizle,\n",
    "import numpy as np\n",
    "df['Room Count'] = df['Room Count'].str.replace(',', '.', regex=False).str.strip(',')\n",
    "\n",
    "# Ondalıklı sayıları +1 yap\n",
    "def adjust_room_count(value):\n",
    "    try:\n",
    "        number = float(value)\n",
    "        if '.' in value:\n",
    "            return np.ceil(number)  # Ondalıklı sayıları yukarı yuvarla\n",
    "        return number\n",
    "    except ValueError:\n",
    "        return np.nan\n",
    "\n",
    "df['Room Count'] = df['Room Count'].apply(adjust_room_count).astype(int)"
   ]
  },
  {
   "cell_type": "code",
   "execution_count": 74,
   "id": "d605c3eb",
   "metadata": {},
   "outputs": [
    {
     "data": {
      "text/plain": [
       "array([3, 4, 2, 1, 6, 5, 7, 8, 9])"
      ]
     },
     "execution_count": 74,
     "metadata": {},
     "output_type": "execute_result"
    }
   ],
   "source": [
    "df['Room Count'].unique()  # sonunda "
   ]
  },
  {
   "cell_type": "code",
   "execution_count": 75,
   "id": "5b58bc26",
   "metadata": {},
   "outputs": [
    {
     "data": {
      "text/plain": [
       "array(['texture95 m2', 'texture90 m2', 'texture120 m2', 'texture115 m2',\n",
       "       'texture85 m2', 'texture100 m2', 'texture65 m2', 'texture110 m2',\n",
       "       'texture77 m2', 'texture140 m2', 'texture520 m2', 'texture130 m2',\n",
       "       'texture135 m2', 'texture64 m2', 'texture190 m2', 'texture84 m2',\n",
       "       'texture80 m2', 'texture82 m2', 'texture200 m2', 'texture70 m2',\n",
       "       'texture155 m2', 'texture145 m2', 'texture150 m2', 'texture75 m2',\n",
       "       'texture167 m2', 'texture88 m2', 'texture125 m2', 'texture89 m2',\n",
       "       'texture105 m2', 'texture28 m2', 'texture96 m2', 'texture60 m2',\n",
       "       'texture280 m2', 'texture158 m2', 'texture152 m2', 'texture165 m2',\n",
       "       'texture350 m2', 'texture175 m2', 'texture185 m2', 'texture160 m2',\n",
       "       'texture170 m2', 'texture180 m2', 'texture103 m2', 'texture210 m2',\n",
       "       'texture349 m2', 'texture55 m2', 'texture320 m2', 'texture250 m2',\n",
       "       'texture124 m2', 'texture106 m2', 'texture300 m2', 'texture240 m2',\n",
       "       'texture241 m2', 'texture600 m2', 'texture138 m2', 'texture184 m2',\n",
       "       'texture50 m2', 'texture87 m2', 'texture114 m2', 'texture93 m2',\n",
       "       'texture74 m2', 'texture57 m2', 'texture132 m2', 'texture73 m2',\n",
       "       'texture1000 m2', 'texture800 m2', 'texture176 m2', 'texture58 m2',\n",
       "       'texture113 m2', 'texture101 m2', 'texture117 m2', 'texture128 m2',\n",
       "       'texture157 m2', 'texture78 m2', 'texture580 m2', 'texture400 m2',\n",
       "       'texture225 m2', 'texture365 m2', 'texture92 m2', 'texture76 m2',\n",
       "       'texture550 m2', 'texture40 m2', 'texture197 m2', 'texture146 m2',\n",
       "       'texture71 m2', 'texture186 m2', 'texture108 m2', 'texture98 m2',\n",
       "       'texture111 m2', 'texture45 m2', 'texture104 m2', 'texture62 m2',\n",
       "       'texture220 m2', 'texture195 m2', 'texture126 m2', 'texture69 m2',\n",
       "       'texture118 m2', 'texture97 m2', 'texture119 m2', 'texture650 m2',\n",
       "       'texture11 m2', 'texture137 m2', 'texture223 m2', 'texture148 m2',\n",
       "       'texture153 m2', 'texture450 m2', 'texture245 m2', 'texture162 m2',\n",
       "       'texture227 m2', 'texture91 m2', 'texture750 m2', 'texture329 m2',\n",
       "       'texture86 m2', 'texture25 m2', 'texture217 m2', 'texture2450 m2',\n",
       "       'texture340 m2', 'texture112 m2', 'texture205 m2',\n",
       "       'texture4400 m2', 'texture975 m2', 'texture166 m2',\n",
       "       'texture151 m2', 'texture174 m2', 'texture127 m2', 'texture230 m2',\n",
       "       'texture287 m2', 'texture260 m2', 'texture147 m2',\n",
       "       'texture2500 m2', 'texture500 m2', 'texture355 m2', 'texture67 m2',\n",
       "       'texture235 m2', 'texture99 m2', 'texture219 m2', 'texture107 m2',\n",
       "       'texture102 m2', 'texture196 m2', 'texture136 m2', 'texture345 m2',\n",
       "       'texture270 m2', 'texture172 m2'], dtype=object)"
      ]
     },
     "execution_count": 75,
     "metadata": {},
     "output_type": "execute_result"
    }
   ],
   "source": [
    "df['Area'].unique()"
   ]
  },
  {
   "cell_type": "code",
   "execution_count": 76,
   "id": "625fc1d8",
   "metadata": {},
   "outputs": [],
   "source": [
    "df['Area'] = df['Area'].str.replace('texture', '', regex=False)\n",
    "df['Area'] = df['Area'].str.replace('m2', '', regex=False)\n"
   ]
  },
  {
   "cell_type": "code",
   "execution_count": 77,
   "id": "76ef6102",
   "metadata": {},
   "outputs": [
    {
     "data": {
      "text/plain": [
       "array(['95 ', '90 ', '120 ', '115 ', '85 ', '100 ', '65 ', '110 ', '77 ',\n",
       "       '140 ', '520 ', '130 ', '135 ', '64 ', '190 ', '84 ', '80 ', '82 ',\n",
       "       '200 ', '70 ', '155 ', '145 ', '150 ', '75 ', '167 ', '88 ',\n",
       "       '125 ', '89 ', '105 ', '28 ', '96 ', '60 ', '280 ', '158 ', '152 ',\n",
       "       '165 ', '350 ', '175 ', '185 ', '160 ', '170 ', '180 ', '103 ',\n",
       "       '210 ', '349 ', '55 ', '320 ', '250 ', '124 ', '106 ', '300 ',\n",
       "       '240 ', '241 ', '600 ', '138 ', '184 ', '50 ', '87 ', '114 ',\n",
       "       '93 ', '74 ', '57 ', '132 ', '73 ', '1000 ', '800 ', '176 ', '58 ',\n",
       "       '113 ', '101 ', '117 ', '128 ', '157 ', '78 ', '580 ', '400 ',\n",
       "       '225 ', '365 ', '92 ', '76 ', '550 ', '40 ', '197 ', '146 ', '71 ',\n",
       "       '186 ', '108 ', '98 ', '111 ', '45 ', '104 ', '62 ', '220 ',\n",
       "       '195 ', '126 ', '69 ', '118 ', '97 ', '119 ', '650 ', '11 ',\n",
       "       '137 ', '223 ', '148 ', '153 ', '450 ', '245 ', '162 ', '227 ',\n",
       "       '91 ', '750 ', '329 ', '86 ', '25 ', '217 ', '2450 ', '340 ',\n",
       "       '112 ', '205 ', '4400 ', '975 ', '166 ', '151 ', '174 ', '127 ',\n",
       "       '230 ', '287 ', '260 ', '147 ', '2500 ', '500 ', '355 ', '67 ',\n",
       "       '235 ', '99 ', '219 ', '107 ', '102 ', '196 ', '136 ', '345 ',\n",
       "       '270 ', '172 '], dtype=object)"
      ]
     },
     "execution_count": 77,
     "metadata": {},
     "output_type": "execute_result"
    }
   ],
   "source": [
    "df['Area'].unique()"
   ]
  },
  {
   "cell_type": "code",
   "execution_count": 78,
   "id": "de246216",
   "metadata": {},
   "outputs": [],
   "source": [
    "df['Area'] = df['Area'].astype(int)"
   ]
  },
  {
   "cell_type": "code",
   "execution_count": 79,
   "id": "719c90a9",
   "metadata": {},
   "outputs": [
    {
     "data": {
      "text/html": [
       "<div>\n",
       "<style scoped>\n",
       "    .dataframe tbody tr th:only-of-type {\n",
       "        vertical-align: middle;\n",
       "    }\n",
       "\n",
       "    .dataframe tbody tr th {\n",
       "        vertical-align: top;\n",
       "    }\n",
       "\n",
       "    .dataframe thead th {\n",
       "        text-align: right;\n",
       "    }\n",
       "</style>\n",
       "<table border=\"1\" class=\"dataframe\">\n",
       "  <thead>\n",
       "    <tr style=\"text-align: right;\">\n",
       "      <th></th>\n",
       "      <th>Title</th>\n",
       "      <th>Category</th>\n",
       "      <th>Room Count</th>\n",
       "      <th>Floor</th>\n",
       "      <th>Area</th>\n",
       "      <th>Updated At</th>\n",
       "      <th>Price</th>\n",
       "      <th>Location</th>\n",
       "    </tr>\n",
       "  </thead>\n",
       "  <tbody>\n",
       "    <tr>\n",
       "      <th>0</th>\n",
       "      <td>BU DÖNEMI IYI DEĞERLENDIRMEK GEREK DAIRE KALMADI</td>\n",
       "      <td>homeDaire</td>\n",
       "      <td>3</td>\n",
       "      <td>layersYüksek giriş</td>\n",
       "      <td>95</td>\n",
       "      <td>event21 Ağustos</td>\n",
       "      <td>1390000</td>\n",
       "      <td>İstanbul - Esenyurt - Selahaddin Eyyubi Mh.</td>\n",
       "    </tr>\n",
       "    <tr>\n",
       "      <th>1</th>\n",
       "      <td>YILDIRIM MAHALLESİNDE YERDEN ISITMALI ULTRA LÜ...</td>\n",
       "      <td>homeDaire</td>\n",
       "      <td>3</td>\n",
       "      <td>layersBahçe katı</td>\n",
       "      <td>90</td>\n",
       "      <td>event21 Ağustos</td>\n",
       "      <td>3650000</td>\n",
       "      <td>İstanbul - Bayrampaşa - Yıldırım Mh.</td>\n",
       "    </tr>\n",
       "    <tr>\n",
       "      <th>2</th>\n",
       "      <td>YILDIRIM MAHALLESİNDE 2+1 90m2 YERDEN ISITMALI...</td>\n",
       "      <td>homeDaire</td>\n",
       "      <td>3</td>\n",
       "      <td>layersYüksek giriş</td>\n",
       "      <td>90</td>\n",
       "      <td>event21 Ağustos</td>\n",
       "      <td>5650000</td>\n",
       "      <td>İstanbul - Bayrampaşa - Yıldırım Mh.</td>\n",
       "    </tr>\n",
       "    <tr>\n",
       "      <th>3</th>\n",
       "      <td>Satılık Yatırımlık Dublex</td>\n",
       "      <td>homeDaire</td>\n",
       "      <td>3</td>\n",
       "      <td>layers4. Kat</td>\n",
       "      <td>120</td>\n",
       "      <td>event20 Ağustos</td>\n",
       "      <td>3000000</td>\n",
       "      <td>İstanbul - Çatalca - Ferhatpaşa Mh.</td>\n",
       "    </tr>\n",
       "    <tr>\n",
       "      <th>4</th>\n",
       "      <td>SANCAKTEPE EYÜPSULTAN MAH. ÇOK KULLANIŞLI 115 ...</td>\n",
       "      <td>homeDaire</td>\n",
       "      <td>4</td>\n",
       "      <td>layers1. Kat</td>\n",
       "      <td>115</td>\n",
       "      <td>event20 Ağustos</td>\n",
       "      <td>3840000</td>\n",
       "      <td>İstanbul - Sancaktepe - Eyüp Sultan Mh.</td>\n",
       "    </tr>\n",
       "  </tbody>\n",
       "</table>\n",
       "</div>"
      ],
      "text/plain": [
       "                                               Title   Category  Room Count  \\\n",
       "0   BU DÖNEMI IYI DEĞERLENDIRMEK GEREK DAIRE KALMADI  homeDaire           3   \n",
       "1  YILDIRIM MAHALLESİNDE YERDEN ISITMALI ULTRA LÜ...  homeDaire           3   \n",
       "2  YILDIRIM MAHALLESİNDE 2+1 90m2 YERDEN ISITMALI...  homeDaire           3   \n",
       "3                          Satılık Yatırımlık Dublex  homeDaire           3   \n",
       "4  SANCAKTEPE EYÜPSULTAN MAH. ÇOK KULLANIŞLI 115 ...  homeDaire           4   \n",
       "\n",
       "                Floor  Area       Updated At    Price  \\\n",
       "0  layersYüksek giriş    95  event21 Ağustos  1390000   \n",
       "1    layersBahçe katı    90  event21 Ağustos  3650000   \n",
       "2  layersYüksek giriş    90  event21 Ağustos  5650000   \n",
       "3        layers4. Kat   120  event20 Ağustos  3000000   \n",
       "4        layers1. Kat   115  event20 Ağustos  3840000   \n",
       "\n",
       "                                      Location  \n",
       "0  İstanbul - Esenyurt - Selahaddin Eyyubi Mh.  \n",
       "1         İstanbul - Bayrampaşa - Yıldırım Mh.  \n",
       "2         İstanbul - Bayrampaşa - Yıldırım Mh.  \n",
       "3          İstanbul - Çatalca - Ferhatpaşa Mh.  \n",
       "4      İstanbul - Sancaktepe - Eyüp Sultan Mh.  "
      ]
     },
     "execution_count": 79,
     "metadata": {},
     "output_type": "execute_result"
    }
   ],
   "source": [
    "df.head()"
   ]
  },
  {
   "cell_type": "code",
   "execution_count": 80,
   "id": "d465e4fe",
   "metadata": {},
   "outputs": [
    {
     "data": {
      "text/plain": [
       "array(['homeDaire', 'homeBina', 'homeVilla', 'homeResidence',\n",
       "       'homeMüstakil Ev', 'homeYazlık', 'homeKöşk', 'homeYalı Dairesi'],\n",
       "      dtype=object)"
      ]
     },
     "execution_count": 80,
     "metadata": {},
     "output_type": "execute_result"
    }
   ],
   "source": [
    "df.Category.unique()"
   ]
  },
  {
   "cell_type": "code",
   "execution_count": 81,
   "id": "0cb6ce53",
   "metadata": {},
   "outputs": [
    {
     "data": {
      "text/plain": [
       "array(['layersYüksek giriş', 'layersBahçe katı', 'layers4. Kat',\n",
       "       'layers1. Kat', 'layersDüz Giriş (Zemin)', 'layers30. Kat', 'N/A',\n",
       "       'layers5. Kat', 'layersÇatı katı', 'layers6. Kat', 'layers3. Kat',\n",
       "       'layers14. Kat', 'layers2. Kat', 'layers7. Kat', 'layers9. Kat',\n",
       "       'layersKot 2 (-2). Kat', 'layers12. Kat', 'layersKot 1 (-1). Kat',\n",
       "       'layers19. Kat', 'layers24. Kat', 'layersÇatı Dubleks',\n",
       "       'layers13. Kat', 'layers10. Kat', 'layersMüstakil',\n",
       "       'layersVilla tipi', 'layersBahçe dublex', 'layersKot 3 (-3). Kat',\n",
       "       'layers8. Kat', 'layers15. Kat', 'layers11. Kat', 'layers16. Kat',\n",
       "       'layers18. Kat', 'layers23. Kat', 'layers21. Kat', 'layers20. Kat',\n",
       "       'layersBodrum Kat', 'layers22. Kat'], dtype=object)"
      ]
     },
     "execution_count": 81,
     "metadata": {},
     "output_type": "execute_result"
    }
   ],
   "source": [
    "df.Floor.unique()  # atılacak değer "
   ]
  },
  {
   "cell_type": "code",
   "execution_count": 82,
   "id": "2bd36b25",
   "metadata": {
    "scrolled": true
   },
   "outputs": [
    {
     "data": {
      "text/plain": [
       "array(['İstanbul - Esenyurt - Selahaddin Eyyubi Mh.',\n",
       "       'İstanbul - Bayrampaşa - Yıldırım Mh.',\n",
       "       'İstanbul - Çatalca - Ferhatpaşa Mh.',\n",
       "       'İstanbul - Sancaktepe - Eyüp Sultan Mh.',\n",
       "       'İstanbul - Çekmeköy - Merkez Mh.',\n",
       "       'İstanbul - Fatih - Karagümrük Mh.',\n",
       "       'İstanbul - Ataşehir - İçerenköy Mh.',\n",
       "       'İstanbul - Fatih - Atikali Mh.',\n",
       "       'İstanbul - Bahçelievler - Zafer Mh.',\n",
       "       'İstanbul - Büyükçekmece - Pınartepe Mh.',\n",
       "       'İstanbul - Esenyurt - Gökevler Mh.',\n",
       "       'İstanbul - Bayrampaşa - Cevatpaşa Mh.',\n",
       "       'İstanbul - Sultangazi - Gazi Mh.',\n",
       "       'İstanbul - Fatih - Mimar Hayrettin Mh.',\n",
       "       'İstanbul - Sultangazi - Esentepe Mh.',\n",
       "       'İstanbul - Esenyurt - Güzelyurt Mh.',\n",
       "       'İstanbul - Esenler - Turgut Reis Mh.',\n",
       "       'İstanbul - Esenyurt - Atatürk Mh.',\n",
       "       'İstanbul - Bahçelievler - Kocasinan Merkez Mh.',\n",
       "       'İstanbul - Pendik - Harmandere Mh.',\n",
       "       'İstanbul - Bahçelievler - Hürriyet Mh.',\n",
       "       'İstanbul - Bahçelievler - Çobançeşme Mh.',\n",
       "       'İstanbul - Çekmeköy - Ömerli Mh.',\n",
       "       'İstanbul - Fatih - Aksaray Mh.',\n",
       "       'İstanbul - Fatih - Haseki Sultan Mh.',\n",
       "       'İstanbul - Esenyurt - Mehmet Akif Ersoy Mh.',\n",
       "       'İstanbul - Kadıköy - Erenköy Mh.',\n",
       "       'İstanbul - Kadıköy - Eğitim Mh.',\n",
       "       'İstanbul - Kadıköy - Fenerbahçe Mh.',\n",
       "       'İstanbul - Esenyurt - Necip Fazıl Kısakürek Mh.',\n",
       "       'İstanbul - Kartal - Hürriyet Mh.',\n",
       "       'İstanbul - Çekmeköy - Mehmet Akif Mh.',\n",
       "       'İstanbul - Eyüpsultan - Sakarya Mh.',\n",
       "       'İstanbul - Ümraniye - Çamlık Mh.',\n",
       "       'İstanbul - Avcılar - Tahtakale Mh.',\n",
       "       'İstanbul - Bahçelievler - Soğanlı Mh.',\n",
       "       'İstanbul - Sarıyer - Sarıyer Merkez Mh.',\n",
       "       'İstanbul - Bahçelievler - Şirinevler Mh.',\n",
       "       'İstanbul - Kağıthane - Nurtepe Mh.',\n",
       "       'İstanbul - Bahçelievler - Fevzi Çakmak Mh.',\n",
       "       'İstanbul - Kağıthane - Çağlayan Mh.',\n",
       "       'İstanbul - Fatih - Derviş Ali Mh.',\n",
       "       'İstanbul - Büyükçekmece - Murat Çeşme Mh.',\n",
       "       'İstanbul - Üsküdar - Valide-i Atik Mh.',\n",
       "       'İstanbul - Esenyurt - Fatih Mh.', 'İstanbul - Pendik - Batı Mh.',\n",
       "       'İstanbul - Esenyurt - Mehterçeşme Mh.',\n",
       "       'İstanbul - Esenyurt - Balıkyolu Mh.',\n",
       "       'İstanbul - Üsküdar - Aziz Mahmut Hüdayi Mh.',\n",
       "       'İstanbul - Küçükçekmece - Kartaltepe Mh.',\n",
       "       'İstanbul - Pendik - Fevzi Çakmak Mh.',\n",
       "       'İstanbul - Avcılar - Üniversite Mh.',\n",
       "       'İstanbul - Esenyurt - Üçevler Mh.',\n",
       "       'İstanbul - Fatih - Yedikule Mh.',\n",
       "       'İstanbul - Beşiktaş - Gayrettepe Mh.',\n",
       "       'İstanbul - Pendik - Bahçelievler Mh.',\n",
       "       'İstanbul - Kağıthane - Çeliktepe Mh.',\n",
       "       'İstanbul - Bakırköy - Kartaltepe Mh.',\n",
       "       'İstanbul - Beylikdüzü - Yakuplu Mh.',\n",
       "       'İstanbul - Bakırköy - Yeşilköy Mh.',\n",
       "       'İstanbul - Bayrampaşa - Muratpaşa Mh.',\n",
       "       'İstanbul - Bağcılar - 15 Temmuz Mh.',\n",
       "       'İstanbul - Başakşehir - Bahçeşehir 2. Kısım Mh.',\n",
       "       'İstanbul - Büyükçekmece - Celaliye Mh.',\n",
       "       'İstanbul - Büyükçekmece - Ekinoba Mh.',\n",
       "       'İstanbul - Küçükçekmece - İnönü Mh.',\n",
       "       'İstanbul - Pendik - Çamçeşme Mh.',\n",
       "       'İstanbul - Beylikdüzü - Barış Mh.',\n",
       "       'İstanbul - Beylikdüzü - Adnan Kahveci Mh.',\n",
       "       'İstanbul - Esenyurt - Sultaniye Mh.',\n",
       "       'İstanbul - Esenyurt - İncirtepe Mh.',\n",
       "       'İstanbul - Beylikdüzü - Kavaklı Mh.',\n",
       "       'İstanbul - Beylikdüzü - Marmara Mh.',\n",
       "       'İstanbul - Kadıköy - Merdivenköy Mh.',\n",
       "       'İstanbul - Beyoğlu - Camiikebir Mh.',\n",
       "       'İstanbul - Avcılar - Merkez Mh.',\n",
       "       'İstanbul - Beşiktaş - Levazım Mh.',\n",
       "       'İstanbul - Üsküdar - Bulgurlu Mh.',\n",
       "       'İstanbul - Ümraniye - İstiklal Mh.',\n",
       "       'İstanbul - Üsküdar - Cumhuriyet Mh.',\n",
       "       'İstanbul - Ümraniye - Elmalıkent Mh.',\n",
       "       'İstanbul - Avcılar - Denizköşkler Mh.',\n",
       "       'İstanbul - Büyükçekmece - Kumburgaz Mh.',\n",
       "       'İstanbul - Maltepe - Zümrütevler Mh.',\n",
       "       'İstanbul - Ataşehir - Kayışdağı Mh.',\n",
       "       'İstanbul - Beşiktaş - Etiler Mh.',\n",
       "       'İstanbul - Kadıköy - Caferağa Mh.',\n",
       "       'İstanbul - Beşiktaş - Konaklar Mh.',\n",
       "       'İstanbul - Büyükçekmece - Bahçelievler Mh.',\n",
       "       'İstanbul - Tuzla - Tepeören Mh.',\n",
       "       'İstanbul - Pendik - Kurtköy Mh.',\n",
       "       'İstanbul - Maltepe - Altayçeşme Mh.',\n",
       "       'İstanbul - Esenyurt - Yeşilkent Mh.',\n",
       "       'İstanbul - Üsküdar - Kısıklı Mh.',\n",
       "       'İstanbul - Arnavutköy - İslambey Mh.',\n",
       "       'İstanbul - Kadıköy - Suadiye Mh.',\n",
       "       'İstanbul - Kadıköy - Göztepe Mh.',\n",
       "       'İstanbul - Sultangazi - 50. Yıl Mh.',\n",
       "       'İstanbul - Sultangazi - Sultançiftliği Mh.',\n",
       "       'İstanbul - Sultangazi - Malkoçoğlu Mh.',\n",
       "       'İstanbul - Başakşehir - Güvercintepe Mh.',\n",
       "       'İstanbul - Eyüpsultan - Silahtarağa Mh.',\n",
       "       'İstanbul - Pendik - Dumlupınar Mh.',\n",
       "       'İstanbul - Pendik - Yenişehir Mh.',\n",
       "       'İstanbul - Sancaktepe - Atatürk Mh.',\n",
       "       'İstanbul - Ümraniye - Tatlısu Mh.',\n",
       "       'İstanbul - Esenyurt - Çınar Mh.',\n",
       "       'İstanbul - Beylikdüzü - Sahil Mh.',\n",
       "       'İstanbul - Beylikdüzü - Cumhuriyet Mh.',\n",
       "       'İstanbul - Küçükçekmece - Mehmet Akif Mh.',\n",
       "       'İstanbul - Ümraniye - Kazım Karabekir Mh.',\n",
       "       'İstanbul - Bahçelievler - Siyavuşpaşa Mh.',\n",
       "       'İstanbul - Küçükçekmece - Halkalı Merkez Mh.',\n",
       "       'İstanbul - Esenyurt - Örnek Mh.', 'İstanbul - Silivri - Yeni Mh.',\n",
       "       'İstanbul - Ümraniye - Atakent Mh.',\n",
       "       'İstanbul - Üsküdar - Zeynep Kamil Mh.',\n",
       "       'İstanbul - Arnavutköy - Haraççı Mh.',\n",
       "       'İstanbul - Sultanbeyli - Adil Mh.',\n",
       "       'İstanbul - Sultangazi - Cebeci Mh.',\n",
       "       'İstanbul - Bahçelievler - Bahçelievler Mh.',\n",
       "       'İstanbul - Esenyurt - Talatpaşa Mh.',\n",
       "       'İstanbul - Pendik - Sapan Bağları Mh.',\n",
       "       'İstanbul - Maltepe - Altıntepe Mh.',\n",
       "       'İstanbul - Beykoz - Yeni Mahalle Mh.',\n",
       "       'İstanbul - Maltepe - Çınar Mh.',\n",
       "       'İstanbul - Küçükçekmece - İstasyon Mh.',\n",
       "       'İstanbul - Sultangazi - 75. Yıl Mh.',\n",
       "       'İstanbul - Maltepe - Fındıklı Mh.',\n",
       "       'İstanbul - Beşiktaş - Kültür Mh.',\n",
       "       'İstanbul - Avcılar - Gümüşpala Mh.',\n",
       "       'İstanbul - Sancaktepe - Osmangazi Mh.',\n",
       "       'İstanbul - Eyüpsultan - İslambey Mh.',\n",
       "       'İstanbul - Pendik - Yayalar Mh.',\n",
       "       'İstanbul - Arnavutköy - Taşoluk Mh.',\n",
       "       'İstanbul - Tuzla - İstasyon Mh.',\n",
       "       'İstanbul - Gaziosmanpaşa - Barbaros Hayrettinpaşa Mh.',\n",
       "       'İstanbul - Esenyurt - İnönü Mh.',\n",
       "       'İstanbul - Silivri - Selimpaşa Mh.',\n",
       "       'İstanbul - Silivri - Mimar Sinan Mh.',\n",
       "       'İstanbul - Çekmeköy - Aydınlar Mh.',\n",
       "       'İstanbul - Bakırköy - Ataköy 2-5-6. Kısım Mh.',\n",
       "       'İstanbul - Beylikdüzü - Gürpınar Mh.',\n",
       "       'İstanbul - Bağcılar - Çınar Mh.', 'İstanbul - Şişli - Fulya Mh.',\n",
       "       'İstanbul - Şişli - Meşrutiyet Mh.',\n",
       "       'İstanbul - Başakşehir - Kayabaşı Mh.',\n",
       "       'İstanbul - Maltepe - Küçükyalı Mh.',\n",
       "       'İstanbul - Sultangazi - Yunus Emre Mh.',\n",
       "       'İstanbul - Sancaktepe - Safa Mh.',\n",
       "       'İstanbul - Üsküdar - Acıbadem Mh.',\n",
       "       'İstanbul - Küçükçekmece - Fatih Mh.',\n",
       "       'İstanbul - Bağcılar - Yıldıztepe Mh.',\n",
       "       'İstanbul - Kadıköy - 19 Mayıs Mh.',\n",
       "       'İstanbul - Kadıköy - Feneryolu Mh.',\n",
       "       'İstanbul - Kadıköy - Bostancı Mh.',\n",
       "       'İstanbul - Sultanbeyli - Necip Fazıl Mh.',\n",
       "       'İstanbul - Eyüpsultan - Mithatpaşa Mh.',\n",
       "       'İstanbul - Bahçelievler - Yenibosna Merkez Mh.',\n",
       "       'İstanbul - Üsküdar - Ahmediye Mh.',\n",
       "       'İstanbul - Küçükçekmece - Cumhuriyet Mh.',\n",
       "       'İstanbul - Başakşehir - Başakşehir Mh.',\n",
       "       'İstanbul - Bağcılar - Fevzi Çakmak Mh.',\n",
       "       'İstanbul - Sultangazi - İsmetpaşa Mh.',\n",
       "       'İstanbul - Eyüpsultan - Alibeyköy Mh.',\n",
       "       'İstanbul - Pendik - Kaynarca Mh.',\n",
       "       'İstanbul - Bahçelievler - Cumhuriyet Mh.',\n",
       "       'İstanbul - Fatih - Hırka-i Şerif Mh.',\n",
       "       'İstanbul - Güngören - Abdurrahman Nafiz Gürman Mh.',\n",
       "       'İstanbul - Büyükçekmece - Türkoba Mh.',\n",
       "       'İstanbul - Çekmeköy - Hamidiye Mh.',\n",
       "       'İstanbul - Çekmeköy - Çatalmeşe Mh.',\n",
       "       'İstanbul - Sancaktepe - Mevlana Mh.',\n",
       "       'İstanbul - Sancaktepe - Kemal Türkler Mh.',\n",
       "       'İstanbul - Bağcılar - Hürriyet Mh.',\n",
       "       'İstanbul - Arnavutköy - Hadımköy Mh.',\n",
       "       'İstanbul - Tuzla - İçmeler Mh.',\n",
       "       'İstanbul - Pendik - Velibaba Mh.',\n",
       "       'İstanbul - Esenyurt - Saadetdere Mh.',\n",
       "       'İstanbul - Büyükçekmece - 19 Mayıs Mh.',\n",
       "       'İstanbul - Büyükçekmece - Alkent 2000 Mh.',\n",
       "       'İstanbul - Esenler - 15 Temmuz Mh.',\n",
       "       'İstanbul - Ümraniye - Armağanevler Mh.',\n",
       "       'İstanbul - Sultanbeyli - Yavuz Selim Mh.',\n",
       "       'İstanbul - Esenyurt - Orhan Gazi Mh.',\n",
       "       'İstanbul - Ümraniye - Namık Kemal Mh.',\n",
       "       'İstanbul - Sancaktepe - Yenidoğan Mh.',\n",
       "       'İstanbul - Üsküdar - Mimar Sinan Mh.',\n",
       "       'İstanbul - Beylikdüzü - Dereağzı Mh.',\n",
       "       'İstanbul - Tuzla - Aydınlı Mh.',\n",
       "       'İstanbul - Çekmeköy - Taşdelen Mh.',\n",
       "       'İstanbul - Zeytinburnu - Gökalp Mh.',\n",
       "       'İstanbul - Sancaktepe - Sarıgazi Mh.',\n",
       "       'İstanbul - Sultanbeyli - Fatih Mh.',\n",
       "       'İstanbul - Sancaktepe - Abdurrahmangazi Mh.',\n",
       "       'İstanbul - Eyüpsultan - Yeşilpınar Mh.',\n",
       "       'İstanbul - Kadıköy - Kozyatağı Mh.',\n",
       "       'İstanbul - Küçükçekmece - Kemalpaşa Mh.',\n",
       "       'İstanbul - Sarıyer - Ayazağa Mh.',\n",
       "       'İstanbul - Kağıthane - Merkez Mh.',\n",
       "       'İstanbul - Şişli - Halide Edip Adıvar Mh.',\n",
       "       'İstanbul - Kadıköy - Fikirtepe Mh.',\n",
       "       'İstanbul - Güngören - Gençosman Mh.',\n",
       "       'İstanbul - Pendik - Güllü Bağlar Mh.',\n",
       "       'İstanbul - Kartal - Orta Mh.',\n",
       "       'İstanbul - Kartal - Yakacık Çarşı Mh.',\n",
       "       'İstanbul - Arnavutköy - Bolluca Mh.',\n",
       "       'İstanbul - Pendik - Esenler Mh.',\n",
       "       'İstanbul - Çatalca - Gökçeali Mh.',\n",
       "       'İstanbul - Bağcılar - Yenimahalle Mh.',\n",
       "       'İstanbul - Bağcılar - Kirazlı Mh.',\n",
       "       'İstanbul - Bağcılar - Fatih Mh.',\n",
       "       'İstanbul - Arnavutköy - Arnavutköy Merkez Mh.',\n",
       "       'İstanbul - Esenler - Nine Hatun Mh.',\n",
       "       'İstanbul - Esenyurt - Barbaros Hayrettin Paşa Mh.',\n",
       "       'İstanbul - Esenyurt - Yenikent Mh.',\n",
       "       'İstanbul - Güngören - Haznedar Mh.',\n",
       "       'İstanbul - Eyüpsultan - Göktürk Merkez Mh.',\n",
       "       'İstanbul - Arnavutköy - Anadolu Mh.',\n",
       "       'İstanbul - Kağıthane - Yahya Kemal Mh.',\n",
       "       'İstanbul - Silivri - Semizkumlar Mh.',\n",
       "       'İstanbul - Beylikdüzü - Beylikdüzü OSB Mh.',\n",
       "       'İstanbul - Pendik - Yeni Mh.',\n",
       "       'İstanbul - Kartal - Karlıktepe Mh.',\n",
       "       'İstanbul - Kartal - Esentepe Mh.',\n",
       "       'İstanbul - Beykoz - Yavuz Selim Mh.',\n",
       "       'İstanbul - Fatih - Silivrikapı Mh.',\n",
       "       'İstanbul - Bağcılar - Yenigün Mh.',\n",
       "       'İstanbul - Üsküdar - Burhaniye Mh.',\n",
       "       'İstanbul - Maltepe - Yalı Mh.',\n",
       "       'İstanbul - Silivri - Gümüşyaka Mh.',\n",
       "       'İstanbul - Gaziosmanpaşa - Merkez Mh.',\n",
       "       'İstanbul - Gaziosmanpaşa - Karadeniz Mh.',\n",
       "       'İstanbul - Esenyurt - Battalgazi Mh.',\n",
       "       'İstanbul - Maltepe - Girne Mh.',\n",
       "       'İstanbul - Esenyurt - Akevler Mh.',\n",
       "       'İstanbul - Sarıyer - Maslak Mh.',\n",
       "       'İstanbul - Fatih - İskenderpaşa Mh.',\n",
       "       'İstanbul - Esenyurt - Zafer Mh.',\n",
       "       'İstanbul - Kağıthane - Yeşilce Mh.',\n",
       "       'İstanbul - Esenyurt - Akçaburgaz Mh.',\n",
       "       'İstanbul - Eyüpsultan - Topçular Mh.',\n",
       "       'İstanbul - Esenyurt - Turgut Özal Mh.',\n",
       "       'İstanbul - Bakırköy - Zuhuratbaba Mh.',\n",
       "       'İstanbul - Avcılar - Cihangir Mh.',\n",
       "       'İstanbul - Bayrampaşa - Kartaltepe Mh.',\n",
       "       'İstanbul - Pendik - Kavakpınar Mh.',\n",
       "       'İstanbul - Sancaktepe - Veysel Karani Mh.',\n",
       "       'İstanbul - Arnavutköy - Boğazköy İstiklal Mh.',\n",
       "       'İstanbul - Güngören - Mareşal Çakmak Mh.',\n",
       "       'İstanbul - Küçükçekmece - Atatürk Mh.',\n",
       "       'İstanbul - Küçükçekmece - Yeşilova Mh.',\n",
       "       'İstanbul - Fatih - Ayvansaray Mh.',\n",
       "       'İstanbul - Pendik - Doğu Mh.',\n",
       "       'İstanbul - Gaziosmanpaşa - Karlıtepe Mh.',\n",
       "       'İstanbul - Sancaktepe - Fatih Mh.',\n",
       "       'İstanbul - Gaziosmanpaşa - Karayolları Mh.',\n",
       "       'İstanbul - Kadıköy - Caddebostan Mh.',\n",
       "       'İstanbul - Sultangazi - Zübeyde Hanım Mh.',\n",
       "       'İstanbul - Beykoz - Kanlıca Mh.',\n",
       "       'İstanbul - Kağıthane - Hamidiye Mh.',\n",
       "       'İstanbul - Başakşehir - Altınşehir Mh.',\n",
       "       'İstanbul - Fatih - Molla Gürani Mh.',\n",
       "       'İstanbul - Pendik - Orhangazi Mh.',\n",
       "       'İstanbul - Beşiktaş - Abbasağa Mh.',\n",
       "       'İstanbul - Güngören - Merkez Mh.',\n",
       "       'İstanbul - Silivri - Büyük Çavuşlu Mh.',\n",
       "       'İstanbul - Fatih - Cerrahpaşa Mh.',\n",
       "       'İstanbul - Küçükçekmece - Yeni Mahalle Mh.',\n",
       "       'İstanbul - Ümraniye - Aşağı Dudullu Mh.',\n",
       "       'İstanbul - Sultanbeyli - Battalgazi Mh.',\n",
       "       'İstanbul - Sultangazi - Eski Habipler Mh.',\n",
       "       'İstanbul - Tuzla - Mimar Sinan Mh.',\n",
       "       'İstanbul - Esenyurt - Şehitler Mh.',\n",
       "       'İstanbul - Zeytinburnu - Yeşiltepe Mh.',\n",
       "       'İstanbul - Zeytinburnu - Sümer Mh.',\n",
       "       'İstanbul - Pendik - Ahmet Yesevi Mh.',\n",
       "       'İstanbul - Küçükçekmece - Sultan Murat Mh.',\n",
       "       'İstanbul - Beykoz - Ortaçeşme Mh.',\n",
       "       'İstanbul - Kartal - Uğur Mumcu Mh.',\n",
       "       'İstanbul - Pendik - Yeşilbağlar Mh.',\n",
       "       'İstanbul - Sultanbeyli - Mimar Sinan Mh.',\n",
       "       'İstanbul - Maltepe - İdealtepe Mh.',\n",
       "       'İstanbul - Şişli - Gülbahar Mh.',\n",
       "       'İstanbul - Fatih - Yavuz Sultan Selim Mh.',\n",
       "       'İstanbul - Silivri - Piri Mehmet Paşa Mh.',\n",
       "       'İstanbul - Kartal - Atalar Mh.',\n",
       "       'İstanbul - Sultangazi - Uğur Mumcu Mh.',\n",
       "       'İstanbul - Sultanbeyli - Mehmet Akif Mh.',\n",
       "       'İstanbul - Pendik - Güzelyalı Mh.',\n",
       "       'İstanbul - Sarıyer - Kireçburnu Mh.',\n",
       "       'İstanbul - Maltepe - Gülsuyu Mh.',\n",
       "       'İstanbul - Maltepe - Bağlarbaşı Mh.',\n",
       "       'İstanbul - Çekmeköy - Ekşioğlu Mh.',\n",
       "       'İstanbul - Esenyurt - Süleymaniye Mh.',\n",
       "       'İstanbul - Zeytinburnu - Maltepe Mh.',\n",
       "       'İstanbul - Esenyurt - Bağlarçeşme Mh.',\n",
       "       'İstanbul - Maltepe - Cevizli Mh.',\n",
       "       'İstanbul - Üsküdar - Küçüksu Mh.',\n",
       "       'İstanbul - Esenyurt - Pınar Mh.',\n",
       "       'İstanbul - Arnavutköy - Ömerli Mh.',\n",
       "       'İstanbul - Gaziosmanpaşa - Şemsipaşa Mh.',\n",
       "       'İstanbul - Arnavutköy - Karlıbayır Mh.',\n",
       "       'İstanbul - Ümraniye - İnkılap Mh.',\n",
       "       'İstanbul - Çekmeköy - Alemdağ Mh.',\n",
       "       'İstanbul - Şile - Meşrutiyet Mh.',\n",
       "       'İstanbul - Pendik - Çınardere Mh.',\n",
       "       'İstanbul - Esenyurt - Koza Mh.',\n",
       "       'İstanbul - Gaziosmanpaşa - Yeni Mahalle Mh.',\n",
       "       'İstanbul - Bayrampaşa - İsmet Paşa Mh.',\n",
       "       'İstanbul - Ümraniye - Atatürk Mh.',\n",
       "       'İstanbul - Avcılar - Ambarlı Mh.',\n",
       "       'İstanbul - Üsküdar - Murat Reis Mh.',\n",
       "       'İstanbul - Beşiktaş - Nisbetiye Mh.',\n",
       "       'İstanbul - Beşiktaş - Dikilitaş Mh.',\n",
       "       'İstanbul - Küçükçekmece - Cennet Mh.',\n",
       "       'İstanbul - Pendik - Fatih Mh.',\n",
       "       'İstanbul - Sancaktepe - Emek Mh.',\n",
       "       'İstanbul - Kartal - Yakacık Yeni Mh.',\n",
       "       'İstanbul - Fatih - Akşemsettin Mh.',\n",
       "       'İstanbul - Başakşehir - Başak Mh.', 'İstanbul - Şişli - Paşa Mh.',\n",
       "       'İstanbul - Kağıthane - Hürriyet Mh.',\n",
       "       'İstanbul - Büyükçekmece - Fatih Mh.',\n",
       "       'İstanbul - Esenler - Tuna Mh.',\n",
       "       'İstanbul - Beşiktaş - Ortaköy Mh.',\n",
       "       'İstanbul - Pendik - Esenyalı Mh.',\n",
       "       'İstanbul - Üsküdar - Ferah Mh.',\n",
       "       'İstanbul - Küçükçekmece - Kanarya Mh.',\n",
       "       'İstanbul - Adalar - Maden Mh.',\n",
       "       'İstanbul - Üsküdar - Kandilli Mh.',\n",
       "       'İstanbul - Eyüpsultan - Düğmeciler Mh.',\n",
       "       'İstanbul - Büyükçekmece - Dizdariye Mh.',\n",
       "       'İstanbul - Zeytinburnu - Telsiz Mh.',\n",
       "       'İstanbul - Sultanbeyli - Turgut Reis Mh.',\n",
       "       'İstanbul - Pendik - Ertuğrul Gazi Mh.',\n",
       "       'İstanbul - Sultangazi - Habibler Mh.',\n",
       "       'İstanbul - Kartal - Soğanlık Yeni Mh.',\n",
       "       'İstanbul - Gaziosmanpaşa - Yıldıztabya Mh.',\n",
       "       'İstanbul - Gaziosmanpaşa - Bağlarbaşı Mh.',\n",
       "       'İstanbul - Silivri - Alibey Mh.', 'İstanbul - Tuzla - Şifa Mh.',\n",
       "       'İstanbul - Şişli - İzzet Paşa Mh.',\n",
       "       'İstanbul - Ümraniye - Yukarı Dudullu Mh.',\n",
       "       'İstanbul - Üsküdar - Küçük Çamlıca Mh.',\n",
       "       'İstanbul - Esenyurt - Piri Reis Mh.',\n",
       "       'İstanbul - Çekmeköy - Cumhuriyet Mh.',\n",
       "       'İstanbul - Ataşehir - İnönü Mh.', 'İstanbul - Şile - Balibey Mh.',\n",
       "       'İstanbul - Arnavutköy - Karaburun Mh.',\n",
       "       'İstanbul - Şişli - Yayla Mh.',\n",
       "       'İstanbul - Üsküdar - Kirazlıtepe Mh.',\n",
       "       'İstanbul - Ümraniye - Necip Fazıl Mh.',\n",
       "       'İstanbul - Güngören - Güneştepe Mh.',\n",
       "       'İstanbul - Sancaktepe - Meclis Mh.',\n",
       "       'İstanbul - Maltepe - Aydınevler Mh.',\n",
       "       'İstanbul - Silivri - Cumhuriyet Mh.',\n",
       "       'İstanbul - Kartal - Cumhuriyet Mh.',\n",
       "       'İstanbul - Şile - Hacıllı Mh.',\n",
       "       'İstanbul - Kartal - Gümüşpınar Mh.',\n",
       "       'İstanbul - Sarıyer - Rumeli Kavağı Mh.',\n",
       "       'İstanbul - Bağcılar - Güneşli Mh.',\n",
       "       'İstanbul - Zeytinburnu - Seyitnizam Mh.',\n",
       "       'İstanbul - Pendik - Çamlık Mh.',\n",
       "       'İstanbul - Gaziosmanpaşa - Sarıgöl Mh.',\n",
       "       'İstanbul - Pendik - Şeyhli Mh.',\n",
       "       'İstanbul - Pendik - Sülüntepe Mh.',\n",
       "       'İstanbul - Esenyurt - Cumhuriyet Mh.',\n",
       "       'İstanbul - Şişli - Mecidiyeköy Mh.',\n",
       "       'İstanbul - Tuzla - Mescit Mh.',\n",
       "       'İstanbul - Üsküdar - Sultantepe Mh.',\n",
       "       'İstanbul - Esenyurt - Ardıçlı Mh.',\n",
       "       'İstanbul - Şişli - Cumhuriyet Mh.',\n",
       "       'İstanbul - Üsküdar - Selimiye Mh.',\n",
       "       'İstanbul - Üsküdar - Barbaros Mh.',\n",
       "       'İstanbul - Silivri - Çanta Sancaktepe Mh.',\n",
       "       'İstanbul - Büyükçekmece - Atatürk Mh.',\n",
       "       'İstanbul - Pendik - Sanayi Mh.',\n",
       "       'İstanbul - Sultanbeyli - Orhangazi Mh.',\n",
       "       'İstanbul - Sultanbeyli - Akşemsettin Mh.',\n",
       "       'İstanbul - Kağıthane - Talatpaşa Mh.',\n",
       "       'İstanbul - Şişli - Bozkurt Mh.',\n",
       "       'İstanbul - Küçükçekmece - Atakent Mh.',\n",
       "       'İstanbul - Şişli - Feriköy Mh.',\n",
       "       'İstanbul - Beşiktaş - Yıldız Mh.',\n",
       "       'İstanbul - Esenyurt - Yunus Emre Mh.',\n",
       "       'İstanbul - Beyoğlu - Tomtom Mh.',\n",
       "       'İstanbul - Şişli - Teşvikiye Mh.',\n",
       "       'İstanbul - Eyüpsultan - Karadolap Mh.',\n",
       "       'İstanbul - Sarıyer - İstinye Mh.',\n",
       "       'İstanbul - Büyükçekmece - Kamiloba Mh.',\n",
       "       'İstanbul - Esenler - Menderes Mh.',\n",
       "       'İstanbul - Beyoğlu - Bülbül Mh.',\n",
       "       'İstanbul - Eyüpsultan - Emniyettepe Mh.',\n",
       "       'İstanbul - Bağcılar - Göztepe Mh.',\n",
       "       'İstanbul - Küçükçekmece - Gültepe Mh.',\n",
       "       'İstanbul - Adalar - Nizam Mh.',\n",
       "       'İstanbul - Beşiktaş - Balmumcu Mh.',\n",
       "       'İstanbul - Şişli - Merkez Mh.',\n",
       "       'İstanbul - Esenyurt - Hürriyet Mh.',\n",
       "       'İstanbul - Pendik - Ramazanoğlu Mh.',\n",
       "       'İstanbul - Bağcılar - Bağlar Mh.',\n",
       "       'İstanbul - Kağıthane - Telsizler Mh.',\n",
       "       'İstanbul - Beşiktaş - Akat Mh.',\n",
       "       'İstanbul - Beyoğlu - Bostan Mh.',\n",
       "       'İstanbul - Bağcılar - Mahmutbey Mh.',\n",
       "       'İstanbul - Bakırköy - Sakızağacı Mh.',\n",
       "       'İstanbul - Kartal - Yunus Mh.',\n",
       "       'İstanbul - Esenyurt - Osmangazi Mh.',\n",
       "       'İstanbul - Esenyurt - Akşemseddin Mh.',\n",
       "       'İstanbul - Silivri - Ortaköy Mh.',\n",
       "       'İstanbul - Sarıyer - Zekeriyaköy Mh.',\n",
       "       'İstanbul - Sarıyer - Bahçeköy Merkez Mh.',\n",
       "       'İstanbul - Üsküdar - Mehmet Akif Ersoy Mh.',\n",
       "       'İstanbul - Avcılar - Mustafa Kemal Paşa Mh.',\n",
       "       'İstanbul - Üsküdar - Selami Ali Mh.',\n",
       "       'İstanbul - Tuzla - Aydıntepe Mh.',\n",
       "       'İstanbul - Tuzla - Evliya Çelebi Mh.'], dtype=object)"
      ]
     },
     "execution_count": 82,
     "metadata": {},
     "output_type": "execute_result"
    }
   ],
   "source": [
    "df.Location.unique() # atilacak"
   ]
  },
  {
   "cell_type": "code",
   "execution_count": 83,
   "id": "e366278c",
   "metadata": {},
   "outputs": [
    {
     "data": {
      "text/plain": [
       "Index(['Title', 'Category', 'Room Count', 'Floor', 'Area', 'Updated At',\n",
       "       'Price', 'Location'],\n",
       "      dtype='object')"
      ]
     },
     "execution_count": 83,
     "metadata": {},
     "output_type": "execute_result"
    }
   ],
   "source": [
    "df.columns"
   ]
  },
  {
   "cell_type": "code",
   "execution_count": 84,
   "id": "5fe3a42b",
   "metadata": {},
   "outputs": [],
   "source": [
    "df=df[['Room Count','Area','Price']]"
   ]
  },
  {
   "cell_type": "code",
   "execution_count": 85,
   "id": "77ec6e6e",
   "metadata": {},
   "outputs": [
    {
     "data": {
      "text/html": [
       "<div>\n",
       "<style scoped>\n",
       "    .dataframe tbody tr th:only-of-type {\n",
       "        vertical-align: middle;\n",
       "    }\n",
       "\n",
       "    .dataframe tbody tr th {\n",
       "        vertical-align: top;\n",
       "    }\n",
       "\n",
       "    .dataframe thead th {\n",
       "        text-align: right;\n",
       "    }\n",
       "</style>\n",
       "<table border=\"1\" class=\"dataframe\">\n",
       "  <thead>\n",
       "    <tr style=\"text-align: right;\">\n",
       "      <th></th>\n",
       "      <th>Room Count</th>\n",
       "      <th>Area</th>\n",
       "      <th>Price</th>\n",
       "    </tr>\n",
       "  </thead>\n",
       "  <tbody>\n",
       "    <tr>\n",
       "      <th>0</th>\n",
       "      <td>3</td>\n",
       "      <td>95</td>\n",
       "      <td>1390000</td>\n",
       "    </tr>\n",
       "    <tr>\n",
       "      <th>1</th>\n",
       "      <td>3</td>\n",
       "      <td>90</td>\n",
       "      <td>3650000</td>\n",
       "    </tr>\n",
       "    <tr>\n",
       "      <th>2</th>\n",
       "      <td>3</td>\n",
       "      <td>90</td>\n",
       "      <td>5650000</td>\n",
       "    </tr>\n",
       "    <tr>\n",
       "      <th>3</th>\n",
       "      <td>3</td>\n",
       "      <td>120</td>\n",
       "      <td>3000000</td>\n",
       "    </tr>\n",
       "    <tr>\n",
       "      <th>4</th>\n",
       "      <td>4</td>\n",
       "      <td>115</td>\n",
       "      <td>3840000</td>\n",
       "    </tr>\n",
       "  </tbody>\n",
       "</table>\n",
       "</div>"
      ],
      "text/plain": [
       "   Room Count  Area    Price\n",
       "0           3    95  1390000\n",
       "1           3    90  3650000\n",
       "2           3    90  5650000\n",
       "3           3   120  3000000\n",
       "4           4   115  3840000"
      ]
     },
     "execution_count": 85,
     "metadata": {},
     "output_type": "execute_result"
    }
   ],
   "source": [
    "df.head()"
   ]
  },
  {
   "cell_type": "code",
   "execution_count": 86,
   "id": "38c76ff6",
   "metadata": {},
   "outputs": [
    {
     "data": {
      "image/png": "[encoded data removed]",
      "text/plain": [
       "<Figure size 1200x600 with 1 Axes>"
      ]
     },
     "metadata": {},
     "output_type": "display_data"
    }
   ],
   "source": [
    "import seaborn as sns\n",
    "import matplotlib.pyplot as plt\n",
    "\n",
    "plt.figure(figsize=(12, 6))\n",
    "sns.histplot(df['Price'], kde=True, color='skyblue', bins=30)\n",
    "plt.xlabel('Price')\n",
    "plt.ylabel('Frequency')\n",
    "plt.title('Price Distribution (Histogram with KDE)')\n",
    "plt.show()"
   ]
  },
  {
   "cell_type": "code",
   "execution_count": 87,
   "id": "38345303",
   "metadata": {},
   "outputs": [
    {
     "data": {
      "image/png": "[encoded data removed]",
      "text/plain": [
       "<Figure size 1200x600 with 1 Axes>"
      ]
     },
     "metadata": {},
     "output_type": "display_data"
    }
   ],
   "source": [
    "plt.figure(figsize=(12, 6))\n",
    "sns.boxplot(x=df['Price'], color='lightcoral')\n",
    "plt.xlabel('Price')\n",
    "plt.title('Price Distribution (Box Plot)')\n",
    "plt.show()"
   ]
  },
  {
   "cell_type": "code",
   "execution_count": 88,
   "id": "5af5643d",
   "metadata": {},
   "outputs": [
    {
     "data": {
      "image/png": "[encoded data removed]",
      "text/plain": [
       "<Figure size 1200x600 with 1 Axes>"
      ]
     },
     "metadata": {},
     "output_type": "display_data"
    }
   ],
   "source": [
    "plt.figure(figsize=(12, 6))\n",
    "sns.violinplot(x=df['Price'], color='lightgreen')\n",
    "plt.xlabel('Price')\n",
    "plt.title('Price Distribution (Violin Plot)')\n",
    "plt.show()"
   ]
  },
  {
   "cell_type": "code",
   "execution_count": 89,
   "id": "32c6aa87",
   "metadata": {},
   "outputs": [
    {
     "data": {
      "image/png": "[encoded data removed]",
      "text/plain": [
       "<Figure size 500x500 with 6 Axes>"
      ]
     },
     "metadata": {},
     "output_type": "display_data"
    }
   ],
   "source": [
    "sns.pairplot(df[['Price', 'Area']])  # Örneğin 'Area' kolonu ile ilişkisini görselleştirmek\n",
    "plt.show()"
   ]
  },
  {
   "cell_type": "markdown",
   "id": "8512c813",
   "metadata": {},
   "source": [
    "# Regression Hesaplama "
   ]
  },
  {
   "cell_type": "code",
   "execution_count": 90,
   "id": "5dd5ccc5",
   "metadata": {},
   "outputs": [
    {
     "data": {
      "text/plain": [
       "((1500, 2), (1500, 1))"
      ]
     },
     "execution_count": 90,
     "metadata": {},
     "output_type": "execute_result"
    }
   ],
   "source": [
    "x=df.drop('Price',axis=1)\n",
    "y=df[['Price']]\n",
    "\n",
    "x.shape,y.shape"
   ]
  },
  {
   "cell_type": "code",
   "execution_count": 91,
   "id": "873c5e14",
   "metadata": {},
   "outputs": [],
   "source": [
    "from sklearn.model_selection import train_test_split\n",
    "\n",
    "from sklearn.linear_model import LinearRegression ,Ridge,Lasso\n",
    "from sklearn.metrics import mean_squared_error ,r2_score\n",
    "import warnings\n",
    "warnings.filterwarnings('ignore')"
   ]
  },
  {
   "cell_type": "code",
   "execution_count": 92,
   "id": "a470c00d",
   "metadata": {},
   "outputs": [],
   "source": [
    "x_train, x_test, y_train, y_test = train_test_split(x, y, test_size=0.2, random_state=42)\n",
    "\n",
    "models = {\n",
    "    'Linear Regression': LinearRegression(),\n",
    "    'Ridge Regression': Ridge(alpha=1.0),\n",
    "    'Lasso Regression': Lasso(alpha=0.1)\n",
    "}\n",
    "\n",
    "# Sonuçları saklamak için bir DataFrame oluştur\n",
    "results = pd.DataFrame(columns=['Model', 'MSE', 'R^2'])\n",
    "\n",
    "# Her model için eğitim yap ve değerlendirme metriklerini hesapla\n",
    "for name, model in models.items():\n",
    "    model.fit(x_train, y_train)\n",
    "    predictions = model.predict(x_test)\n",
    "    \n",
    "    mse = mean_squared_error(y_test, predictions)\n",
    "    r2 = r2_score(y_test, predictions)\n",
    "    \n",
    "    # Sonuçları DataFrame'ye ekle\n",
    "    results = pd.concat([results, pd.DataFrame({'Model': [name], 'MSE': [mse], 'R^2': [r2]})], ignore_index=True)\n"
   ]
  },
  {
   "cell_type": "code",
   "execution_count": 93,
   "id": "228b7a8f",
   "metadata": {},
   "outputs": [
    {
     "data": {
      "text/html": [
       "<div>\n",
       "<style scoped>\n",
       "    .dataframe tbody tr th:only-of-type {\n",
       "        vertical-align: middle;\n",
       "    }\n",
       "\n",
       "    .dataframe tbody tr th {\n",
       "        vertical-align: top;\n",
       "    }\n",
       "\n",
       "    .dataframe thead th {\n",
       "        text-align: right;\n",
       "    }\n",
       "</style>\n",
       "<table border=\"1\" class=\"dataframe\">\n",
       "  <thead>\n",
       "    <tr style=\"text-align: right;\">\n",
       "      <th></th>\n",
       "      <th>Model</th>\n",
       "      <th>MSE</th>\n",
       "      <th>R^2</th>\n",
       "    </tr>\n",
       "  </thead>\n",
       "  <tbody>\n",
       "    <tr>\n",
       "      <th>0</th>\n",
       "      <td>Linear Regression</td>\n",
       "      <td>8.318925e+13</td>\n",
       "      <td>0.498091</td>\n",
       "    </tr>\n",
       "    <tr>\n",
       "      <th>1</th>\n",
       "      <td>Ridge Regression</td>\n",
       "      <td>8.318983e+13</td>\n",
       "      <td>0.498088</td>\n",
       "    </tr>\n",
       "    <tr>\n",
       "      <th>2</th>\n",
       "      <td>Lasso Regression</td>\n",
       "      <td>8.318925e+13</td>\n",
       "      <td>0.498091</td>\n",
       "    </tr>\n",
       "  </tbody>\n",
       "</table>\n",
       "</div>"
      ],
      "text/plain": [
       "               Model           MSE       R^2\n",
       "0  Linear Regression  8.318925e+13  0.498091\n",
       "1   Ridge Regression  8.318983e+13  0.498088\n",
       "2   Lasso Regression  8.318925e+13  0.498091"
      ]
     },
     "execution_count": 93,
     "metadata": {},
     "output_type": "execute_result"
    }
   ],
   "source": [
    "results"
   ]
  },
  {
   "cell_type": "code",
   "execution_count": 94,
   "id": "6ea4d71a",
   "metadata": {},
   "outputs": [
    {
     "data": {
      "text/html": [
       "<div>\n",
       "<style scoped>\n",
       "    .dataframe tbody tr th:only-of-type {\n",
       "        vertical-align: middle;\n",
       "    }\n",
       "\n",
       "    .dataframe tbody tr th {\n",
       "        vertical-align: top;\n",
       "    }\n",
       "\n",
       "    .dataframe thead th {\n",
       "        text-align: right;\n",
       "    }\n",
       "</style>\n",
       "<table border=\"1\" class=\"dataframe\">\n",
       "  <thead>\n",
       "    <tr style=\"text-align: right;\">\n",
       "      <th></th>\n",
       "      <th>R_Squared</th>\n",
       "      <th>RMSE</th>\n",
       "      <th>MAE</th>\n",
       "    </tr>\n",
       "  </thead>\n",
       "  <tbody>\n",
       "    <tr>\n",
       "      <th>AdaBoost</th>\n",
       "      <td>5.358935e-01</td>\n",
       "      <td>8.770616e+06</td>\n",
       "      <td>3.849732e+06</td>\n",
       "    </tr>\n",
       "    <tr>\n",
       "      <th>Linear</th>\n",
       "      <td>4.980914e-01</td>\n",
       "      <td>9.120814e+06</td>\n",
       "      <td>3.874562e+06</td>\n",
       "    </tr>\n",
       "    <tr>\n",
       "      <th>Lasso</th>\n",
       "      <td>4.980914e-01</td>\n",
       "      <td>9.120814e+06</td>\n",
       "      <td>3.874562e+06</td>\n",
       "    </tr>\n",
       "    <tr>\n",
       "      <th>Ridge</th>\n",
       "      <td>4.980879e-01</td>\n",
       "      <td>9.120846e+06</td>\n",
       "      <td>3.874351e+06</td>\n",
       "    </tr>\n",
       "    <tr>\n",
       "      <th>ElasticNet</th>\n",
       "      <td>4.957031e-01</td>\n",
       "      <td>9.142489e+06</td>\n",
       "      <td>3.811194e+06</td>\n",
       "    </tr>\n",
       "    <tr>\n",
       "      <th>KNeighborsRegressor</th>\n",
       "      <td>4.683957e-01</td>\n",
       "      <td>9.386756e+06</td>\n",
       "      <td>4.239497e+06</td>\n",
       "    </tr>\n",
       "    <tr>\n",
       "      <th>XGBRegressor</th>\n",
       "      <td>2.959420e-01</td>\n",
       "      <td>1.080253e+07</td>\n",
       "      <td>3.944896e+06</td>\n",
       "    </tr>\n",
       "    <tr>\n",
       "      <th>Gradient Boosting</th>\n",
       "      <td>9.488005e-02</td>\n",
       "      <td>1.224826e+07</td>\n",
       "      <td>4.355045e+06</td>\n",
       "    </tr>\n",
       "    <tr>\n",
       "      <th>SVR</th>\n",
       "      <td>-6.963733e-02</td>\n",
       "      <td>1.331495e+07</td>\n",
       "      <td>4.645343e+06</td>\n",
       "    </tr>\n",
       "    <tr>\n",
       "      <th>mlp_regressor</th>\n",
       "      <td>-2.828420e-01</td>\n",
       "      <td>1.458169e+07</td>\n",
       "      <td>6.868187e+06</td>\n",
       "    </tr>\n",
       "    <tr>\n",
       "      <th>Extra Tree</th>\n",
       "      <td>-3.805070e-01</td>\n",
       "      <td>1.512657e+07</td>\n",
       "      <td>4.782324e+06</td>\n",
       "    </tr>\n",
       "    <tr>\n",
       "      <th>Decision Tree</th>\n",
       "      <td>-3.987751e-01</td>\n",
       "      <td>1.522633e+07</td>\n",
       "      <td>4.911172e+06</td>\n",
       "    </tr>\n",
       "    <tr>\n",
       "      <th>SGD</th>\n",
       "      <td>-8.430178e+11</td>\n",
       "      <td>1.182060e+13</td>\n",
       "      <td>8.264771e+12</td>\n",
       "    </tr>\n",
       "  </tbody>\n",
       "</table>\n",
       "</div>"
      ],
      "text/plain": [
       "                        R_Squared          RMSE           MAE\n",
       "AdaBoost             5.358935e-01  8.770616e+06  3.849732e+06\n",
       "Linear               4.980914e-01  9.120814e+06  3.874562e+06\n",
       "Lasso                4.980914e-01  9.120814e+06  3.874562e+06\n",
       "Ridge                4.980879e-01  9.120846e+06  3.874351e+06\n",
       "ElasticNet           4.957031e-01  9.142489e+06  3.811194e+06\n",
       "KNeighborsRegressor  4.683957e-01  9.386756e+06  4.239497e+06\n",
       "XGBRegressor         2.959420e-01  1.080253e+07  3.944896e+06\n",
       "Gradient Boosting    9.488005e-02  1.224826e+07  4.355045e+06\n",
       "SVR                 -6.963733e-02  1.331495e+07  4.645343e+06\n",
       "mlp_regressor       -2.828420e-01  1.458169e+07  6.868187e+06\n",
       "Extra Tree          -3.805070e-01  1.512657e+07  4.782324e+06\n",
       "Decision Tree       -3.987751e-01  1.522633e+07  4.911172e+06\n",
       "SGD                 -8.430178e+11  1.182060e+13  8.264771e+12"
      ]
     },
     "execution_count": 94,
     "metadata": {},
     "output_type": "execute_result"
    }
   ],
   "source": [
    "from regression_func import algo_test \n",
    "algo_test(x,y)"
   ]
  },
  {
   "cell_type": "markdown",
   "id": "8d4ed735",
   "metadata": {},
   "source": [
    "# R^2 68 bulduk her halde bu en iyi değer olabilir ,\n",
    "normalde burada durmak gerekiyor ama bizden deeplarning te uygulamamız lazım bence verimiz hem az parametre hemde düzgün bir dağılmıa sahip olmadığı için yanlış değerlendirmeye yol açabilir deeplarning için \n",
    "ama eğer veriler manüpüle edersek doğruluk oranı artacaktır \n",
    "\n",
    "tabi çektiğimiz veriler %100 gerçek veriler olduğu için manüpüle edincede \n",
    "doğruyu yanstımıyacağını düşünüyorum , yani kısaca başka bir yöntem bulunmalı ve ya Yaptığım veri çekme işlemi farklı sitelerden daha fazala parametre alınarak değerlendirilmeli ."
   ]
  },
  {
   "cell_type": "code",
   "execution_count": 95,
   "id": "82418af1",
   "metadata": {},
   "outputs": [
    {
     "data": {
      "text/html": [
       "<div>\n",
       "<style scoped>\n",
       "    .dataframe tbody tr th:only-of-type {\n",
       "        vertical-align: middle;\n",
       "    }\n",
       "\n",
       "    .dataframe tbody tr th {\n",
       "        vertical-align: top;\n",
       "    }\n",
       "\n",
       "    .dataframe thead th {\n",
       "        text-align: right;\n",
       "    }\n",
       "</style>\n",
       "<table border=\"1\" class=\"dataframe\">\n",
       "  <thead>\n",
       "    <tr style=\"text-align: right;\">\n",
       "      <th></th>\n",
       "      <th>Room Count</th>\n",
       "      <th>Area</th>\n",
       "      <th>Price</th>\n",
       "    </tr>\n",
       "  </thead>\n",
       "  <tbody>\n",
       "    <tr>\n",
       "      <th>0</th>\n",
       "      <td>3</td>\n",
       "      <td>95</td>\n",
       "      <td>1390000</td>\n",
       "    </tr>\n",
       "    <tr>\n",
       "      <th>1</th>\n",
       "      <td>3</td>\n",
       "      <td>90</td>\n",
       "      <td>3650000</td>\n",
       "    </tr>\n",
       "    <tr>\n",
       "      <th>2</th>\n",
       "      <td>3</td>\n",
       "      <td>90</td>\n",
       "      <td>5650000</td>\n",
       "    </tr>\n",
       "    <tr>\n",
       "      <th>3</th>\n",
       "      <td>3</td>\n",
       "      <td>120</td>\n",
       "      <td>3000000</td>\n",
       "    </tr>\n",
       "    <tr>\n",
       "      <th>4</th>\n",
       "      <td>4</td>\n",
       "      <td>115</td>\n",
       "      <td>3840000</td>\n",
       "    </tr>\n",
       "  </tbody>\n",
       "</table>\n",
       "</div>"
      ],
      "text/plain": [
       "   Room Count  Area    Price\n",
       "0           3    95  1390000\n",
       "1           3    90  3650000\n",
       "2           3    90  5650000\n",
       "3           3   120  3000000\n",
       "4           4   115  3840000"
      ]
     },
     "execution_count": 95,
     "metadata": {},
     "output_type": "execute_result"
    }
   ],
   "source": [
    "df.head()"
   ]
  },
  {
   "cell_type": "code",
   "execution_count": 96,
   "id": "f07a040b",
   "metadata": {},
   "outputs": [
    {
     "data": {
      "text/plain": [
       "<Axes: >"
      ]
     },
     "execution_count": 96,
     "metadata": {},
     "output_type": "execute_result"
    },
    {
     "data": {
      "image/png": "[encoded data removed]",
      "text/plain": [
       "<Figure size 640x480 with 2 Axes>"
      ]
     },
     "metadata": {},
     "output_type": "display_data"
    }
   ],
   "source": [
    "import seaborn as sns \n",
    "#sns.heatmap(df.corr(Numeric), annot=True, cmap='coolwarm', fmt='.2f')\n",
    "sns.heatmap(df.corr(numeric_only=True),annot=True)"
   ]
  },
  {
   "cell_type": "code",
   "execution_count": 97,
   "id": "bba14282",
   "metadata": {},
   "outputs": [
    {
     "name": "stdout",
     "output_type": "stream",
     "text": [
      "MSE: 76923707331558.61\n",
      "R^2: 0.5358934930049214\n"
     ]
    }
   ],
   "source": [
    "from sklearn.neighbors import KNeighborsRegressor\n",
    "import matplotlib.pyplot as plt\n",
    "\n",
    "# Veriyi hazırlama\n",
    "X = df.drop('Price', axis=1)\n",
    "y = df['Price']\n",
    "\n",
    "# Veriyi eğitim ve test setlerine ayırma\n",
    "X_train, X_test, y_train, y_test = train_test_split(X, y, test_size=0.2, random_state=42)\n",
    "\n",
    "# Modeli tanımlama\n",
    "model = KNeighborsRegressor(n_neighbors=5)  # n_neighbors değeri, KNN'nin kaç komşu kullanacağını belirler\n",
    "model.fit(X_train, y_train)\n",
    "\n",
    "# Tahmin yapma\n",
    "y_pred = model.predict(X_test)\n",
    "\n",
    "# Model performansını değerlendirme\n",
    "mse = mean_squared_error(y_test, y_pred)\n",
    "r2 = r2_score(y_test, y_pred)\n",
    "print(f'MSE: {mse}')\n",
    "print(f'R^2: {r2}')\n"
   ]
  },
  {
   "cell_type": "code",
   "execution_count": 98,
   "id": "69c5a493",
   "metadata": {},
   "outputs": [
    {
     "name": "stderr",
     "output_type": "stream",
     "text": [
      "No artists with labels found to put in legend.  Note that artists whose label start with an underscore are ignored when legend() is called with no argument.\n"
     ]
    },
    {
     "data": {
      "image/png": "[encoded data removed]",
      "text/plain": [
       "<Figure size 1200x600 with 1 Axes>"
      ]
     },
     "metadata": {},
     "output_type": "display_data"
    }
   ],
   "source": [
    "import numpy as np\n",
    "import seaborn as sns\n",
    "\n",
    "# Scatter plot için verileri hazırlama\n",
    "plt.figure(figsize=(12, 6))\n",
    "sns.scatterplot(x=y_test, y=y_pred, color='blue', alpha=0.6)\n",
    "\n",
    "# Regresyon doğrusunu çizme\n",
    "sns.regplot(x=y_test, y=y_pred, scatter=False, color='red', line_kws={'label': 'Regression Line'})\n",
    "\n",
    "plt.xlabel('True Price')\n",
    "plt.ylabel('Predicted Price')\n",
    "plt.title('True Price vs Predicted Price')\n",
    "plt.legend()\n",
    "plt.show()\n"
   ]
  },
  {
   "cell_type": "code",
   "execution_count": null,
   "id": "de525fbb",
   "metadata": {},
   "outputs": [],
   "source": []
  },
  {
   "cell_type": "code",
   "execution_count": null,
   "id": "29ab155f",
   "metadata": {},
   "outputs": [],
   "source": []
  },
  {
   "cell_type": "markdown",
   "id": "51303efb",
   "metadata": {},
   "source": [
    "## DeepLearning"
   ]
  },
  {
   "cell_type": "code",
   "execution_count": 99,
   "id": "8cb5f79b",
   "metadata": {},
   "outputs": [
    {
     "name": "stdout",
     "output_type": "stream",
     "text": [
      "Epoch 1/10\n",
      "\u001b[1m8/8\u001b[0m \u001b[32m━━━━━━━━━━━━━━━━━━━━\u001b[0m\u001b[37m\u001b[0m \u001b[1m1s\u001b[0m 25ms/step - loss: 173303725555712.0000 - val_loss: 195327881641984.0000\n",
      "Epoch 2/10\n",
      "\u001b[1m8/8\u001b[0m \u001b[32m━━━━━━━━━━━━━━━━━━━━\u001b[0m\u001b[37m\u001b[0m \u001b[1m0s\u001b[0m 6ms/step - loss: 170543722528768.0000 - val_loss: 195327881641984.0000\n",
      "Epoch 3/10\n",
      "\u001b[1m8/8\u001b[0m \u001b[32m━━━━━━━━━━━━━━━━━━━━\u001b[0m\u001b[37m\u001b[0m \u001b[1m0s\u001b[0m 6ms/step - loss: 113671225212928.0000 - val_loss: 195327881641984.0000\n",
      "Epoch 4/10\n",
      "\u001b[1m8/8\u001b[0m \u001b[32m━━━━━━━━━━━━━━━━━━━━\u001b[0m\u001b[37m\u001b[0m \u001b[1m0s\u001b[0m 7ms/step - loss: 183863691182080.0000 - val_loss: 195327881641984.0000\n",
      "Epoch 5/10\n",
      "\u001b[1m8/8\u001b[0m \u001b[32m━━━━━━━━━━━━━━━━━━━━\u001b[0m\u001b[37m\u001b[0m \u001b[1m0s\u001b[0m 6ms/step - loss: 164849854185472.0000 - val_loss: 195327848087552.0000\n",
      "Epoch 6/10\n",
      "\u001b[1m8/8\u001b[0m \u001b[32m━━━━━━━━━━━━━━━━━━━━\u001b[0m\u001b[37m\u001b[0m \u001b[1m0s\u001b[0m 6ms/step - loss: 111883814174720.0000 - val_loss: 195327814533120.0000\n",
      "Epoch 7/10\n",
      "\u001b[1m8/8\u001b[0m \u001b[32m━━━━━━━━━━━━━━━━━━━━\u001b[0m\u001b[37m\u001b[0m \u001b[1m0s\u001b[0m 6ms/step - loss: 117016543363072.0000 - val_loss: 195327814533120.0000\n",
      "Epoch 8/10\n",
      "\u001b[1m8/8\u001b[0m \u001b[32m━━━━━━━━━━━━━━━━━━━━\u001b[0m\u001b[37m\u001b[0m \u001b[1m0s\u001b[0m 8ms/step - loss: 215314780389376.0000 - val_loss: 195327814533120.0000\n",
      "Epoch 9/10\n",
      "\u001b[1m8/8\u001b[0m \u001b[32m━━━━━━━━━━━━━━━━━━━━\u001b[0m\u001b[37m\u001b[0m \u001b[1m0s\u001b[0m 7ms/step - loss: 166520948785152.0000 - val_loss: 195327814533120.0000\n",
      "Epoch 10/10\n",
      "\u001b[1m8/8\u001b[0m \u001b[32m━━━━━━━━━━━━━━━━━━━━\u001b[0m\u001b[37m\u001b[0m \u001b[1m0s\u001b[0m 7ms/step - loss: 114701019119616.0000 - val_loss: 195327797755904.0000\n",
      "\u001b[1m10/10\u001b[0m \u001b[32m━━━━━━━━━━━━━━━━━━━━\u001b[0m\u001b[37m\u001b[0m \u001b[1m0s\u001b[0m 1ms/step - loss: 174571529437184.0000\n",
      "Test Loss: 213113609650176.0\n"
     ]
    }
   ],
   "source": [
    "from sklearn.preprocessing import StandardScaler\n",
    "from tensorflow.keras.models import Sequential\n",
    "from tensorflow.keras.layers import Dense\n",
    "\n",
    "\n",
    "\n",
    "X_train, X_test, y_train, y_test = train_test_split(x, y, test_size=0.2, random_state=42)\n",
    "\n",
    "# Verileri ölçekleme\n",
    "scaler = StandardScaler()\n",
    "X_train = scaler.fit_transform(X_train)\n",
    "X_test = scaler.transform(X_test)\n",
    "\n",
    "# Modeli tanımlama\n",
    "model = Sequential([\n",
    "    Dense(64, activation='relu', input_shape=(X_train.shape[1],)),\n",
    "    Dense(32, activation='relu'),\n",
    "    Dense(1)  # Çıkış katmanı\n",
    "])\n",
    "\n",
    "model.compile(optimizer='adam', loss='mean_squared_error')\n",
    "\n",
    "# Modeli eğitme\n",
    "model.fit(X_train, y_train, epochs=10, batch_size=150, validation_split=0.1, verbose=1)\n",
    "\n",
    "# Modeli değerlendirme\n",
    "loss = model.evaluate(X_test, y_test)\n",
    "print(f'Test Loss: {loss}')\n"
   ]
  },
  {
   "cell_type": "code",
   "execution_count": 100,
   "id": "c077bf4f",
   "metadata": {},
   "outputs": [
    {
     "name": "stdout",
     "output_type": "stream",
     "text": [
      "\u001b[1m10/10\u001b[0m \u001b[32m━━━━━━━━━━━━━━━━━━━━\u001b[0m\u001b[37m\u001b[0m \u001b[1m0s\u001b[0m 5ms/step \n"
     ]
    }
   ],
   "source": [
    "y_pred = model.predict(X_test)\n",
    "\n",
    "# R^2 değerini hesaplama\n",
    "r2 = r2_score(y_test, y_pred)"
   ]
  },
  {
   "cell_type": "code",
   "execution_count": 101,
   "id": "b15dd6bc",
   "metadata": {},
   "outputs": [
    {
     "data": {
      "text/plain": [
       "-0.28578585684589997"
      ]
     },
     "execution_count": 101,
     "metadata": {},
     "output_type": "execute_result"
    }
   ],
   "source": [
    "r2  # Yani deeep larninge uygun değil "
   ]
  },
  {
   "cell_type": "markdown",
   "id": "5962f329",
   "metadata": {},
   "source": [
    "### Kısmen de olsa amacımızıa ulaştık R^2 değeri ile , tabi bu modelli dahada geliştirmek yeni yeni yöntemler ve çözümlemeler bulmak gerekiyor \n",
    "inşallah ilerde daha iyi çzümlemeler yapabilirim"
   ]
  },
  {
   "cell_type": "markdown",
   "id": "f8dc875b",
   "metadata": {},
   "source": []
  }
 ],
 "metadata": {
  "kernelspec": {
   "display_name": "Python 3 (ipykernel)",
   "language": "python",
   "name": "python3"
  },
  "language_info": {
   "codemirror_mode": {
    "name": "ipython",
    "version": 3
   },
   "file_extension": ".py",
   "mimetype": "text/x-python",
   "name": "python",
   "nbconvert_exporter": "python",
   "pygments_lexer": "ipython3",
   "version": "3.11.7"
  }
 },
 "nbformat": 4,
 "nbformat_minor": 5
}
